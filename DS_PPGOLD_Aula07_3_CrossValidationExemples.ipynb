{
 "cells": [
  {
   "cell_type": "markdown",
   "id": "bff00f10-ab83-4050-9ef7-024ae21bcf3d",
   "metadata": {
    "id": "kf5t4e_0dIhp"
   },
   "source": [
    "\n",
    "<left>\n",
    "    <img src=\"http://epecora.com.br/DataFiles/PPGOLD_logo.png\" width=\"300\" alt=\"PPGOLD Data Science: INTRO\"  />\n",
    "</left>\n",
    "\n",
    "# *Data Science - PPGOLD*\n",
    "\n",
    "\n",
    "---\n",
    "\n",
    "\n",
    "\n",
    "\n"
   ]
  },
  {
   "cell_type": "markdown",
   "id": "f8e44249-49db-44a2-87fe-6c0f80c1ea0a",
   "metadata": {
    "id": "f5a3UOE0Mve8"
   },
   "source": [
    "# Aula 06 - Cross Validation\n",
    "\n",
    "Tempo estimado: **20** minutos\n",
    "\n",
    "## Objetivos\n",
    "\n",
    "Após completar este AULA, você será capaz de:\n",
    "\n",
    "* Compreender como os métodos de separação funcionam"
   ]
  },
  {
   "cell_type": "markdown",
   "id": "885bf42f-f3ce-4f99-b0ed-27985703298a",
   "metadata": {},
   "source": [
    "# Cross Validation Examples"
   ]
  },
  {
   "cell_type": "code",
   "execution_count": 37,
   "id": "726320a3-9d5e-401e-b852-c598b8de0064",
   "metadata": {},
   "outputs": [
    {
     "name": "stdout",
     "output_type": "stream",
     "text": [
      "[[1 2]\n",
      " [2 3]\n",
      " [3 4]\n",
      " [4 5]\n",
      " [5 6]]\n",
      "[1 2 3 4 5]\n"
     ]
    }
   ],
   "source": [
    "# Exemplo scikit-learn.org\n",
    "import numpy as np\n",
    "\n",
    "from sklearn.model_selection import KFold # import KFold\n",
    "\n",
    "X = np.array([[1, 2], [2, 3], [3, 4], [4, 5], [5, 6]]) # create an array\n",
    "y = np.array([1, 2, 3, 4, 5]) # Create another array\n",
    "\n",
    "print(X)\n",
    "print(y)"
   ]
  },
  {
   "cell_type": "markdown",
   "id": "56eb0c0f-c221-4c62-b33b-ca3943894943",
   "metadata": {},
   "source": [
    "## Random Selection Cross Validation"
   ]
  },
  {
   "cell_type": "code",
   "execution_count": 42,
   "id": "56bff2c5-1ef2-4134-84db-840d635dbc3b",
   "metadata": {},
   "outputs": [
    {
     "name": "stdout",
     "output_type": "stream",
     "text": [
      "Train Set: [[1 2]\n",
      " [2 3]\n",
      " [5 6]\n",
      " [4 5]]\n",
      "Test Set: [[3 4]]\n"
     ]
    }
   ],
   "source": [
    "from sklearn.model_selection import train_test_split\n",
    "\n",
    "X_train, X_test, y_train, y_test = train_test_split(X, y, test_size=0.20)\n",
    "\n",
    "#X_train, X_test, y_train, y_test = train_test_split(X, y, test_size=0.20, random_state = 10)\n",
    "\n",
    "print(\"Train Set:\", X_train)\n",
    "print(\"Test Set:\",X_test)\n"
   ]
  },
  {
   "cell_type": "markdown",
   "id": "4926dcf2-e656-4bca-b026-22494ccd9a8d",
   "metadata": {},
   "source": [
    "## K-Folds Cross Validation"
   ]
  },
  {
   "cell_type": "code",
   "execution_count": 44,
   "id": "3caa6163-1ce0-42bd-aaeb-88a839430a78",
   "metadata": {},
   "outputs": [
    {
     "name": "stdout",
     "output_type": "stream",
     "text": [
      "KFold(n_splits=3, random_state=None, shuffle=False)\n",
      "TRAIN: [2 3 4] TEST: [0 1]\n",
      "TRAIN: [0 1 4] TEST: [2 3]\n",
      "TRAIN: [0 1 2 3] TEST: [4]\n"
     ]
    }
   ],
   "source": [
    "kf = KFold(n_splits=3) # Define the split - into 2 folds \n",
    "kf.get_n_splits(X) # returns the number of splitting iterations in the cross-validator\n",
    "print(kf) \n",
    "\n",
    "for train_index, test_index in kf.split(X):\n",
    "    print(\"TRAIN:\", train_index, \"TEST:\", test_index)"
   ]
  },
  {
   "cell_type": "markdown",
   "id": "a7151f9a-fafc-4454-8128-98da2fb49787",
   "metadata": {},
   "source": [
    "## Leave One Out\n"
   ]
  },
  {
   "cell_type": "code",
   "execution_count": 45,
   "id": "139e4737-6623-4efd-a166-c93e44e10791",
   "metadata": {},
   "outputs": [
    {
     "name": "stdout",
     "output_type": "stream",
     "text": [
      "Splits: 5\n",
      "LeaveOneOut()\n",
      "TRAIN: [1 2 3 4] TEST: [0]\n",
      "TRAIN: [0 2 3 4] TEST: [1]\n",
      "TRAIN: [0 1 3 4] TEST: [2]\n",
      "TRAIN: [0 1 2 4] TEST: [3]\n",
      "TRAIN: [0 1 2 3] TEST: [4]\n"
     ]
    }
   ],
   "source": [
    "from sklearn.model_selection import LeaveOneOut\n",
    "\n",
    "loo = LeaveOneOut()\n",
    "print(\"Splits:\",loo.get_n_splits(X))\n",
    "print(loo)\n",
    "\n",
    "for train_index, test_index in loo.split(X):\n",
    "    print(\"TRAIN:\", train_index, \"TEST:\", test_index)\n"
   ]
  },
  {
   "cell_type": "markdown",
   "id": "31c5f62a-a30e-4ead-a48d-c62fe41ee656",
   "metadata": {},
   "source": [
    "## Leave P out"
   ]
  },
  {
   "cell_type": "code",
   "execution_count": 46,
   "id": "2d2e6560-6bd8-43d9-bbc2-a7fad53e2cdc",
   "metadata": {},
   "outputs": [
    {
     "name": "stdout",
     "output_type": "stream",
     "text": [
      "Splits: 10\n",
      "LeavePOut(p=2)\n",
      "TRAIN: [2 3 4] TEST: [0 1]\n",
      "TRAIN: [1 3 4] TEST: [0 2]\n",
      "TRAIN: [1 2 4] TEST: [0 3]\n",
      "TRAIN: [1 2 3] TEST: [0 4]\n",
      "TRAIN: [0 3 4] TEST: [1 2]\n",
      "TRAIN: [0 2 4] TEST: [1 3]\n",
      "TRAIN: [0 2 3] TEST: [1 4]\n",
      "TRAIN: [0 1 4] TEST: [2 3]\n",
      "TRAIN: [0 1 3] TEST: [2 4]\n",
      "TRAIN: [0 1 2] TEST: [3 4]\n"
     ]
    }
   ],
   "source": [
    "from sklearn.model_selection import LeavePOut\n",
    "lpo = LeavePOut(2)\n",
    "\n",
    "print(\"Splits:\",lpo.get_n_splits(X))\n",
    "print(lpo)\n",
    "for train_index, test_index in lpo.split(X):\n",
    "    print(\"TRAIN:\", train_index, \"TEST:\", test_index)\n"
   ]
  },
  {
   "cell_type": "markdown",
   "id": "f49ca194-bb56-4b50-9421-61a586d97f14",
   "metadata": {
    "id": "rv4xPTLtOc4-"
   },
   "source": [
    "## Change Log\n",
    "\n",
    "|  Date (YYYY-MM-DD) |  Version | Changed By  |  Change Description |\n",
    "|---|---|---|---|\n",
    "| 2020-10-27  | 0.9  | <a href=\"https://www.linkedin.com/in/eduardopecora/\" target=\"_blank\">Eduardo Pécora</a> |  Initial development |\n",
    "\n",
    "<hr>"
   ]
  }
 ],
 "metadata": {
  "kernelspec": {
   "display_name": "Python 3 (ipykernel)",
   "language": "python",
   "name": "python3"
  },
  "language_info": {
   "codemirror_mode": {
    "name": "ipython",
    "version": 3
   },
   "file_extension": ".py",
   "mimetype": "text/x-python",
   "name": "python",
   "nbconvert_exporter": "python",
   "pygments_lexer": "ipython3",
   "version": "3.9.7"
  }
 },
 "nbformat": 4,
 "nbformat_minor": 5
}
