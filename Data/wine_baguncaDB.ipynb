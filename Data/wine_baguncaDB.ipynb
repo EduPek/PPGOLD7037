{
  "nbformat": 4,
  "nbformat_minor": 0,
  "metadata": {
    "colab": {
      "name": "wine_baguncaDB.ipynb",
      "provenance": []
    },
    "kernelspec": {
      "name": "python3",
      "display_name": "Python 3"
    },
    "language_info": {
      "name": "python"
    }
  },
  "cells": [
    {
      "cell_type": "code",
      "metadata": {
        "id": "IXOEM9IIvu2_"
      },
      "source": [
        "import pandas as pd\n",
        "import numpy as np\n",
        "from random import choices\n",
        "from random import sample\n",
        "\n",
        "whiteGrapes = [\"Chardonnay\",\"Sauvignon Blanc\",\"Riesling\",\"Pinot Gris\",\"Semillon\",\"Gewurztraminer\",\"Viognier\",\"Chenin Blanc\",\"Pinot Blanc\",\"Roussanne\",\"Albarino\",\"Marsanne\"]\n",
        "redGrapes = [\"Cabernet Sauvignon\",\"Pinot Noir\",\"Merlot\",\"Syrah\",\"Malbec\",\"Grenache\",\"Sangiovese\",\"Tempranillo\",\"Montepulciano\",\"Barbera\",\"Petite Sirah\",\"Nebbiolo\"]\n",
        "\n",
        "red = pd.read_csv(\"winequality-red.csv\", sep = \";\")\n",
        "red[\"color\"] = \"red\"\n",
        "red[\"grape\"] = choices(redGrapes,k = red.shape[0])\n",
        "\n",
        "print(red.dtypes)\n",
        "\n",
        "a = sample(range(red.shape[0]), 15)\n",
        "for i in a: \n",
        "  red[\"color\"][i] = \"RED\"\n",
        "\n",
        "a = sample(range(red.shape[0]), 23)\n",
        "for i in a: \n",
        "  red[\"color\"][i] = \"?\"\n",
        "\n",
        "a = sample(range(red.shape[0]), 33)\n",
        "for i in a: \n",
        "  red[\"color\"][i] = \"Red\"\n",
        "\n",
        "cols = red.columns.tolist()\n",
        "cols = cols[-1:] + cols[:-1]\n",
        "cols = cols[-1:] + cols[:-1]\n",
        "red = red[cols]\n",
        "\n",
        "white = pd.read_csv(\"winequality-white.csv\", sep = \";\")\n",
        "white[\"color\"] = \"white\"\n",
        "white[\"grape\"] = choices(whiteGrapes,k = white.shape[0])\n",
        "\n",
        "a = sample(range(white.shape[0]), 35)\n",
        "for i in a: \n",
        "  white[\"color\"][i] = \"WHITE\"\n",
        "\n",
        "a = sample(range(white.shape[0]), 73)\n",
        "for i in a: \n",
        "  white[\"color\"][i] = \"?\"\n",
        "\n",
        "a = sample(range(white.shape[0]), 133)\n",
        "for i in a: \n",
        "  white[\"color\"][i] = \"WhiT\"\n",
        "\n",
        "cols = white.columns.tolist()\n",
        "cols = cols[-1:] + cols[:-1]\n",
        "cols = cols[-1:] + cols[:-1]\n",
        "white = white[cols]\n",
        "\n",
        "wines = red.append(white)\n",
        "\n",
        "a = sample(range(wines.shape[0]), 345)\n",
        "for i in a: \n",
        "  wines[\"grape\"][i] = \"?\"\n",
        "\n",
        "\n"
      ],
      "execution_count": null,
      "outputs": []
    },
    {
      "cell_type": "code",
      "metadata": {
        "id": "YjZ5Wmu1Bvw1"
      },
      "source": [
        "print(type(wines))\n",
        "print(wines.head())\n",
        "print(wines.shape)\n",
        "a = sample(range(wines.shape[0]), 556)\n",
        "\n",
        "for i in a: \n",
        "  print(i)\n",
        "  wines[\"chlorides\"][i] = \"?\"\n",
        "\n",
        "a = sample(range(wines.shape[0]), 255)\n",
        "\n",
        "for i in a: \n",
        "  print(i)\n",
        "  wines[\"density\"][i] = \"?\"\n",
        "\n",
        "a = sample(range(wines.shape[0]), 255)\n",
        "\n",
        "for i in a: \n",
        "  print(i)\n",
        "  wines[\"sulphates\"][i] = \"?\"\n",
        "  \n",
        "a = sample(range(wines.shape[0]), 12)\n",
        "\n",
        "for i in a: \n",
        "  print(i)\n",
        "  wines[\"pH\"][i] = \"?\"\n",
        "\n",
        "\n",
        "a = sample(range(wines.shape[0]), 89)\n",
        "\n",
        "for i in a: \n",
        "  print(i)\n",
        "  wines[\"alcohol\"][i] = \"?\"\n",
        "\n",
        "\n",
        "a = sample(range(wines.shape[0]), 44)\n",
        "\n",
        "for i in a: \n",
        "  print(i)\n",
        "  wines[\"quality\"][i] = \"?\"\n"
      ],
      "execution_count": null,
      "outputs": []
    },
    {
      "cell_type": "code",
      "metadata": {
        "colab": {
          "base_uri": "https://localhost:8080/",
          "height": 297
        },
        "id": "Z4SreM3r8ebw",
        "outputId": "33ed8529-80b4-4b76-8935-08f7f932a2bd"
      },
      "source": [
        "wines.describe()"
      ],
      "execution_count": 187,
      "outputs": [
        {
          "output_type": "execute_result",
          "data": {
            "text/html": [
              "<div>\n",
              "<style scoped>\n",
              "    .dataframe tbody tr th:only-of-type {\n",
              "        vertical-align: middle;\n",
              "    }\n",
              "\n",
              "    .dataframe tbody tr th {\n",
              "        vertical-align: top;\n",
              "    }\n",
              "\n",
              "    .dataframe thead th {\n",
              "        text-align: right;\n",
              "    }\n",
              "</style>\n",
              "<table border=\"1\" class=\"dataframe\">\n",
              "  <thead>\n",
              "    <tr style=\"text-align: right;\">\n",
              "      <th></th>\n",
              "      <th>fixed acidity</th>\n",
              "      <th>volatile acidity</th>\n",
              "      <th>citric acid</th>\n",
              "      <th>residual sugar</th>\n",
              "      <th>free sulfur dioxide</th>\n",
              "      <th>total sulfur dioxide</th>\n",
              "    </tr>\n",
              "  </thead>\n",
              "  <tbody>\n",
              "    <tr>\n",
              "      <th>count</th>\n",
              "      <td>6497.000000</td>\n",
              "      <td>6497.000000</td>\n",
              "      <td>6497.000000</td>\n",
              "      <td>6497.000000</td>\n",
              "      <td>6497.000000</td>\n",
              "      <td>6497.000000</td>\n",
              "    </tr>\n",
              "    <tr>\n",
              "      <th>mean</th>\n",
              "      <td>7.215307</td>\n",
              "      <td>0.339666</td>\n",
              "      <td>0.318633</td>\n",
              "      <td>5.443235</td>\n",
              "      <td>30.525319</td>\n",
              "      <td>115.744574</td>\n",
              "    </tr>\n",
              "    <tr>\n",
              "      <th>std</th>\n",
              "      <td>1.296434</td>\n",
              "      <td>0.164636</td>\n",
              "      <td>0.145318</td>\n",
              "      <td>4.757804</td>\n",
              "      <td>17.749400</td>\n",
              "      <td>56.521855</td>\n",
              "    </tr>\n",
              "    <tr>\n",
              "      <th>min</th>\n",
              "      <td>3.800000</td>\n",
              "      <td>0.080000</td>\n",
              "      <td>0.000000</td>\n",
              "      <td>0.600000</td>\n",
              "      <td>1.000000</td>\n",
              "      <td>6.000000</td>\n",
              "    </tr>\n",
              "    <tr>\n",
              "      <th>25%</th>\n",
              "      <td>6.400000</td>\n",
              "      <td>0.230000</td>\n",
              "      <td>0.250000</td>\n",
              "      <td>1.800000</td>\n",
              "      <td>17.000000</td>\n",
              "      <td>77.000000</td>\n",
              "    </tr>\n",
              "    <tr>\n",
              "      <th>50%</th>\n",
              "      <td>7.000000</td>\n",
              "      <td>0.290000</td>\n",
              "      <td>0.310000</td>\n",
              "      <td>3.000000</td>\n",
              "      <td>29.000000</td>\n",
              "      <td>118.000000</td>\n",
              "    </tr>\n",
              "    <tr>\n",
              "      <th>75%</th>\n",
              "      <td>7.700000</td>\n",
              "      <td>0.400000</td>\n",
              "      <td>0.390000</td>\n",
              "      <td>8.100000</td>\n",
              "      <td>41.000000</td>\n",
              "      <td>156.000000</td>\n",
              "    </tr>\n",
              "    <tr>\n",
              "      <th>max</th>\n",
              "      <td>15.900000</td>\n",
              "      <td>1.580000</td>\n",
              "      <td>1.660000</td>\n",
              "      <td>65.800000</td>\n",
              "      <td>289.000000</td>\n",
              "      <td>440.000000</td>\n",
              "    </tr>\n",
              "  </tbody>\n",
              "</table>\n",
              "</div>"
            ],
            "text/plain": [
              "       fixed acidity  ...  total sulfur dioxide\n",
              "count    6497.000000  ...           6497.000000\n",
              "mean        7.215307  ...            115.744574\n",
              "std         1.296434  ...             56.521855\n",
              "min         3.800000  ...              6.000000\n",
              "25%         6.400000  ...             77.000000\n",
              "50%         7.000000  ...            118.000000\n",
              "75%         7.700000  ...            156.000000\n",
              "max        15.900000  ...            440.000000\n",
              "\n",
              "[8 rows x 6 columns]"
            ]
          },
          "metadata": {},
          "execution_count": 187
        }
      ]
    },
    {
      "cell_type": "code",
      "metadata": {
        "colab": {
          "base_uri": "https://localhost:8080/"
        },
        "id": "fRlk6Mb9vxIz",
        "outputId": "249cad67-6024-465f-bda8-e4e0297e1e03"
      },
      "source": [
        "wines[\"color\"].unique()"
      ],
      "execution_count": 188,
      "outputs": [
        {
          "output_type": "execute_result",
          "data": {
            "text/plain": [
              "array(['red', '?', 'Red', 'RED', 'white', 'WhiT', 'WHITE'], dtype=object)"
            ]
          },
          "metadata": {},
          "execution_count": 188
        }
      ]
    },
    {
      "cell_type": "code",
      "metadata": {
        "id": "N25FFm1TxzIG"
      },
      "source": [
        "wines.to_csv(\"winequality.csv\", sep = \",\", index=False)"
      ],
      "execution_count": 189,
      "outputs": []
    },
    {
      "cell_type": "code",
      "metadata": {
        "colab": {
          "base_uri": "https://localhost:8080/"
        },
        "id": "9Y5rf-OSwqW7",
        "outputId": "f7a448b7-3067-4c31-c096-332efe0fa899"
      },
      "source": [
        "wines.shape"
      ],
      "execution_count": 190,
      "outputs": [
        {
          "output_type": "execute_result",
          "data": {
            "text/plain": [
              "(6497, 14)"
            ]
          },
          "metadata": {},
          "execution_count": 190
        }
      ]
    },
    {
      "cell_type": "code",
      "metadata": {
        "colab": {
          "base_uri": "https://localhost:8080/"
        },
        "id": "WAAKWbBRwzil",
        "outputId": "846b846b-b26a-4975-a6c7-0ecba42caceb"
      },
      "source": [
        "q = wines[\"fixed acidity\"].quantile(0.99)\n",
        "q"
      ],
      "execution_count": 191,
      "outputs": [
        {
          "output_type": "execute_result",
          "data": {
            "text/plain": [
              "12.0"
            ]
          },
          "metadata": {},
          "execution_count": 191
        }
      ]
    },
    {
      "cell_type": "code",
      "metadata": {
        "colab": {
          "base_uri": "https://localhost:8080/",
          "height": 506
        },
        "id": "xpZRGBaZyMUk",
        "outputId": "7590c3a8-065a-4a6a-ea93-274bcbd1e318"
      },
      "source": [
        "from scipy import stats\n",
        "import matplotlib.pyplot as plt\n",
        "\n",
        "a = np.abs(stats.zscore(wines[\"fixed acidity\"])) < 3\n",
        "\n",
        "print(stats.describe(a))\n",
        "\n",
        "print(\"Average:\", wines[\"fixed acidity\"].mean())\n",
        "print(\"StDev:\",wines[\"fixed acidity\"].std())\n",
        "print(\"Max:\",wines[\"fixed acidity\"].max())\n",
        "print(\"Min:\",wines[\"fixed acidity\"].min())\n",
        "\n",
        "plt.boxplot(wines[\"fixed acidity\"])"
      ],
      "execution_count": 193,
      "outputs": [
        {
          "output_type": "stream",
          "name": "stdout",
          "text": [
            "DescribeResult(nobs=6497, minmax=(False, True), mean=0.9802985993535478, variance=0.019316228558690595, skewness=-6.912156671149915, kurtosis=45.77790984652225)\n",
            "Average: 7.215307064799134\n",
            "StDev: 1.296433757799792\n",
            "Max: 15.9\n",
            "Min: 3.8\n"
          ]
        },
        {
          "output_type": "execute_result",
          "data": {
            "text/plain": [
              "{'boxes': [<matplotlib.lines.Line2D at 0x7fcc04df7b10>],\n",
              " 'caps': [<matplotlib.lines.Line2D at 0x7fcc04e7a310>,\n",
              "  <matplotlib.lines.Line2D at 0x7fcc04e063d0>],\n",
              " 'fliers': [<matplotlib.lines.Line2D at 0x7fcc04e1b050>],\n",
              " 'means': [],\n",
              " 'medians': [<matplotlib.lines.Line2D at 0x7fcc04e06210>],\n",
              " 'whiskers': [<matplotlib.lines.Line2D at 0x7fcc04df7f50>,\n",
              "  <matplotlib.lines.Line2D at 0x7fcc04df6410>]}"
            ]
          },
          "metadata": {},
          "execution_count": 193
        },
        {
          "output_type": "display_data",
          "data": {
            "image/png": "[encoded data removed]",
            "text/plain": [
              "<Figure size 432x288 with 1 Axes>"
            ]
          },
          "metadata": {
            "needs_background": "light"
          }
        }
      ]
    },
    {
      "cell_type": "code",
      "metadata": {
        "colab": {
          "base_uri": "https://localhost:8080/",
          "height": 350
        },
        "id": "nbikEZJVyOSK",
        "outputId": "6f028ddf-73e2-4a7f-d041-03c1539f96a6"
      },
      "source": [
        "plt.hist(wines[\"fixed acidity\"])\n"
      ],
      "execution_count": 184,
      "outputs": [
        {
          "output_type": "execute_result",
          "data": {
            "text/plain": [
              "(array([  63., 1151., 3248., 1339.,  382.,  177.,   82.,   41.,    7.,\n",
              "           7.]),\n",
              " array([ 3.8 ,  5.01,  6.22,  7.43,  8.64,  9.85, 11.06, 12.27, 13.48,\n",
              "        14.69, 15.9 ]),\n",
              " <a list of 10 Patch objects>)"
            ]
          },
          "metadata": {},
          "execution_count": 184
        },
        {
          "output_type": "display_data",
          "data": {
            "image/png": "[encoded data removed]",
            "text/plain": [
              "<Figure size 432x288 with 1 Axes>"
            ]
          },
          "metadata": {
            "needs_background": "light"
          }
        }
      ]
    },
    {
      "cell_type": "code",
      "metadata": {
        "id": "jZuzSyPgyTvy"
      },
      "source": [
        ""
      ],
      "execution_count": null,
      "outputs": []
    }
  ]
}