{
  "nbformat": 4,
  "nbformat_minor": 0,
  "metadata": {
    "colab": {
      "name": "DS_LAB01.ipynb",
      "provenance": [],
      "collapsed_sections": []
    },
    "kernelspec": {
      "name": "python3",
      "display_name": "Python 3"
    },
    "language_info": {
      "name": "python"
    }
  },
  "cells": [
    {
      "cell_type": "markdown",
      "metadata": {
        "id": "kf5t4e_0dIhp"
      },
      "source": [
        "\n",
        "<left>\n",
        "    <img src=\"http://epecora.com.br/DataFiles/PPGOLD_logo.png\" width=\"300\" alt=\"PPGOLD Data Science: INTRO\"  />\n",
        "</left>\n",
        "\n",
        "# *Data Science - Meu primeiro código*\n",
        "\n",
        "---\n",
        "\n",
        "\n"
      ]
    },
    {
      "cell_type": "markdown",
      "metadata": {
        "id": "A6XXgcIfNc0i"
      },
      "source": [
        "## 1) Clique neste simbolo na barra ao lado e faça o Upload do arquivo mtcars.csv\n",
        "\n",
        "![image.png](data:image/png;base64,iVBORw0KGgoAAAANSUhEUgAAADAAAAA2CAYAAACBWxqaAAABT0lEQVRoBe2YzQ2DMAyFGYs7C3BnAAZgF9gC7gzAAIzBnXOqd0CyIpo6Mb/VO0QNlYv97K8mJsvz3L15ZW8OHrFTwN0VZAVYAWMXJEJEiAgZM0CEjAlkF3o8QkVRuLZt3TRNqlVV1aXH8yBCZVm6ZVncuq7qBfsrRQQFDMOgDlyKvFJEUACwkYHF7CEC6MWupmmiEDxNQIxY33aeZ4f/nqZBPFIABHVdd6wAZEXbiVLt4GOrBu5xaAXqulbdUOP0mw18UIDMjuxCrIDi0EaEJD7YEyEFNjJpREhmgwhF4oOEESEilICNTBoRktnA/q8eZH3fR4+HseMkfBx6nE4d6rcgLJ/w7ROxdx0cKVNeq1iC3n6LFwLwvRew/11QAIwxXGM+Hcfx9JESPuBLO9Ajvp8CfMVPu6aAuyvCCrACxvMTESJCRMiYASJkTODru9AHCTyk6xJDbpwAAAAASUVORK5CYII=)"
      ]
    },
    {
      "cell_type": "code",
      "metadata": {
        "id": "3NAqLaubEPgI"
      },
      "source": [
        "import pandas as pd\n",
        "df = pd.read_csv(\"mtcars.csv\")"
      ],
      "execution_count": 20,
      "outputs": []
    },
    {
      "cell_type": "markdown",
      "metadata": {
        "id": "CI6ksvYKNgkS"
      },
      "source": [
        "2) Verifique a estrutura do seu DataFrame"
      ]
    },
    {
      "cell_type": "code",
      "metadata": {
        "colab": {
          "base_uri": "https://localhost:8080/",
          "height": 204
        },
        "id": "9RLrq1y_JY-c",
        "outputId": "202fd6d1-15ea-4f25-b246-224652a905de"
      },
      "source": [
        "df.head()"
      ],
      "execution_count": 19,
      "outputs": [
        {
          "output_type": "execute_result",
          "data": {
            "text/html": [
              "<div>\n",
              "<style scoped>\n",
              "    .dataframe tbody tr th:only-of-type {\n",
              "        vertical-align: middle;\n",
              "    }\n",
              "\n",
              "    .dataframe tbody tr th {\n",
              "        vertical-align: top;\n",
              "    }\n",
              "\n",
              "    .dataframe thead th {\n",
              "        text-align: right;\n",
              "    }\n",
              "</style>\n",
              "<table border=\"1\" class=\"dataframe\">\n",
              "  <thead>\n",
              "    <tr style=\"text-align: right;\">\n",
              "      <th></th>\n",
              "      <th>model</th>\n",
              "      <th>mpg</th>\n",
              "      <th>cyl</th>\n",
              "      <th>disp</th>\n",
              "      <th>hp</th>\n",
              "      <th>drat</th>\n",
              "      <th>wt</th>\n",
              "      <th>qsec</th>\n",
              "      <th>vs</th>\n",
              "      <th>am</th>\n",
              "      <th>gear</th>\n",
              "      <th>carb</th>\n",
              "    </tr>\n",
              "  </thead>\n",
              "  <tbody>\n",
              "    <tr>\n",
              "      <th>0</th>\n",
              "      <td>Mazda RX4</td>\n",
              "      <td>21.0</td>\n",
              "      <td>6</td>\n",
              "      <td>160.0</td>\n",
              "      <td>110</td>\n",
              "      <td>3.90</td>\n",
              "      <td>2.620</td>\n",
              "      <td>16.46</td>\n",
              "      <td>0</td>\n",
              "      <td>1</td>\n",
              "      <td>4</td>\n",
              "      <td>4</td>\n",
              "    </tr>\n",
              "    <tr>\n",
              "      <th>1</th>\n",
              "      <td>Mazda RX4 Wag</td>\n",
              "      <td>21.0</td>\n",
              "      <td>6</td>\n",
              "      <td>160.0</td>\n",
              "      <td>110</td>\n",
              "      <td>3.90</td>\n",
              "      <td>2.875</td>\n",
              "      <td>17.02</td>\n",
              "      <td>0</td>\n",
              "      <td>1</td>\n",
              "      <td>4</td>\n",
              "      <td>4</td>\n",
              "    </tr>\n",
              "    <tr>\n",
              "      <th>2</th>\n",
              "      <td>Datsun 710</td>\n",
              "      <td>22.8</td>\n",
              "      <td>4</td>\n",
              "      <td>108.0</td>\n",
              "      <td>93</td>\n",
              "      <td>3.85</td>\n",
              "      <td>2.320</td>\n",
              "      <td>18.61</td>\n",
              "      <td>1</td>\n",
              "      <td>1</td>\n",
              "      <td>4</td>\n",
              "      <td>1</td>\n",
              "    </tr>\n",
              "    <tr>\n",
              "      <th>3</th>\n",
              "      <td>Hornet 4 Drive</td>\n",
              "      <td>21.4</td>\n",
              "      <td>6</td>\n",
              "      <td>258.0</td>\n",
              "      <td>110</td>\n",
              "      <td>3.08</td>\n",
              "      <td>3.215</td>\n",
              "      <td>19.44</td>\n",
              "      <td>1</td>\n",
              "      <td>0</td>\n",
              "      <td>3</td>\n",
              "      <td>1</td>\n",
              "    </tr>\n",
              "    <tr>\n",
              "      <th>4</th>\n",
              "      <td>Hornet Sportabout</td>\n",
              "      <td>18.7</td>\n",
              "      <td>8</td>\n",
              "      <td>360.0</td>\n",
              "      <td>175</td>\n",
              "      <td>3.15</td>\n",
              "      <td>3.440</td>\n",
              "      <td>17.02</td>\n",
              "      <td>0</td>\n",
              "      <td>0</td>\n",
              "      <td>3</td>\n",
              "      <td>2</td>\n",
              "    </tr>\n",
              "  </tbody>\n",
              "</table>\n",
              "</div>"
            ],
            "text/plain": [
              "               model   mpg  cyl   disp   hp  ...   qsec  vs  am  gear  carb\n",
              "0          Mazda RX4  21.0    6  160.0  110  ...  16.46   0   1     4     4\n",
              "1      Mazda RX4 Wag  21.0    6  160.0  110  ...  17.02   0   1     4     4\n",
              "2         Datsun 710  22.8    4  108.0   93  ...  18.61   1   1     4     1\n",
              "3     Hornet 4 Drive  21.4    6  258.0  110  ...  19.44   1   0     3     1\n",
              "4  Hornet Sportabout  18.7    8  360.0  175  ...  17.02   0   0     3     2\n",
              "\n",
              "[5 rows x 12 columns]"
            ]
          },
          "metadata": {},
          "execution_count": 19
        }
      ]
    },
    {
      "cell_type": "markdown",
      "metadata": {
        "id": "T97SiEwpM_az"
      },
      "source": [
        "### Legenda \n",
        "\n",
        "mpg - Miles per Gallon\n",
        "\n",
        "cyl - # of cylinders\n",
        "\n",
        "disp - displacement, in cubic inches\n",
        "\n",
        "hp - horsepower\n",
        "\n",
        "drat - driveshaft ratio (I don't really KNOW cars, so if \n",
        "\n",
        "you've got questions - you know what to do. :-D\n",
        "\n",
        "wt - weight\n",
        "\n",
        "qsec - 1/4 mile time; a measure of acceleration\n",
        "\n",
        "vs - 'V' or straight - engine shape\n",
        "\n",
        "am - transmission; auto or manual\n",
        "\n",
        "gear - # of gears\n",
        "\n",
        "carb - # of carburetors."
      ]
    },
    {
      "cell_type": "markdown",
      "metadata": {
        "id": "Vz_DlzkFNsJ5"
      },
      "source": [
        "## 3) Verifique quantas linhas e colunas o se DataFrame tem"
      ]
    },
    {
      "cell_type": "code",
      "metadata": {
        "colab": {
          "base_uri": "https://localhost:8080/"
        },
        "id": "RPpxqDAZMWnH",
        "outputId": "9f8d81f5-6171-4cda-9a0b-0408591b086d"
      },
      "source": [
        "df.shape"
      ],
      "execution_count": 15,
      "outputs": [
        {
          "output_type": "execute_result",
          "data": {
            "text/plain": [
              "(32, 12)"
            ]
          },
          "metadata": {},
          "execution_count": 15
        }
      ]
    },
    {
      "cell_type": "code",
      "metadata": {
        "id": "GvasSd3_N_Ww"
      },
      "source": [
        ""
      ],
      "execution_count": null,
      "outputs": []
    },
    {
      "cell_type": "markdown",
      "metadata": {
        "id": "9ZlTVQOkN_-k"
      },
      "source": [
        "## 4) Calcule a média de consumo de todos os carros"
      ]
    },
    {
      "cell_type": "code",
      "metadata": {
        "colab": {
          "base_uri": "https://localhost:8080/"
        },
        "id": "vGegsOjZJZ8G",
        "outputId": "c3204aec-05e0-4b3a-d80b-527f900a2d01"
      },
      "source": [
        "df[\"mpg\"].mean()"
      ],
      "execution_count": 11,
      "outputs": [
        {
          "output_type": "execute_result",
          "data": {
            "text/plain": [
              "20.090624999999996"
            ]
          },
          "metadata": {},
          "execution_count": 11
        }
      ]
    },
    {
      "cell_type": "markdown",
      "metadata": {
        "id": "ptEBIrElOHf4"
      },
      "source": [
        "## 5) Seu primeiro Gráfico \n",
        "### importe a biblioteca gráfica \"matplotlib\""
      ]
    },
    {
      "cell_type": "code",
      "metadata": {
        "id": "VJvS_mjEJhEu"
      },
      "source": [
        " import matplotlib.pyplot as plt"
      ],
      "execution_count": 12,
      "outputs": []
    },
    {
      "cell_type": "markdown",
      "metadata": {
        "id": "GP_00LykOWq8"
      },
      "source": [
        "## 6) Plot um histograma do HorsePower"
      ]
    },
    {
      "cell_type": "code",
      "metadata": {
        "colab": {
          "base_uri": "https://localhost:8080/",
          "height": 333
        },
        "id": "OU2d5o0fMQMA",
        "outputId": "4a2ae6dc-54a0-45cd-c5a9-1432d21082aa"
      },
      "source": [
        "plt.hist(df[\"hp\"])"
      ],
      "execution_count": 18,
      "outputs": [
        {
          "output_type": "execute_result",
          "data": {
            "text/plain": [
              "(array([5., 5., 7., 2., 6., 2., 3., 1., 0., 1.]),\n",
              " array([ 52. ,  80.3, 108.6, 136.9, 165.2, 193.5, 221.8, 250.1, 278.4,\n",
              "        306.7, 335. ]),\n",
              " <a list of 10 Patch objects>)"
            ]
          },
          "metadata": {},
          "execution_count": 18
        },
        {
          "output_type": "display_data",
          "data": {
            "image/png": "[encoded data removed]",
            "text/plain": [
              "<Figure size 432x288 with 1 Axes>"
            ]
          },
          "metadata": {
            "needs_background": "light"
          }
        }
      ]
    },
    {
      "cell_type": "markdown",
      "metadata": {
        "id": "NwABJulFO091"
      },
      "source": [
        "## Tarefa 01\n",
        "\n",
        "Encontre os valores máximo e minimo da coluna \"weight\"\n",
        "\n",
        "**Tire um print screen do resultado e entregue**"
      ]
    },
    {
      "cell_type": "code",
      "metadata": {
        "id": "uOKklnqrMTEo"
      },
      "source": [
        ""
      ],
      "execution_count": null,
      "outputs": []
    },
    {
      "cell_type": "markdown",
      "metadata": {
        "id": "7Q7-UUPcPErA"
      },
      "source": [
        "## Tarefa 02\n",
        "\n",
        "Faca um histograma da coluna \"Gear\"\n",
        "\n",
        "**Tire um print screen do resultado e entregue**"
      ]
    },
    {
      "cell_type": "code",
      "metadata": {
        "id": "ytsftKm6PL1h"
      },
      "source": [
        ""
      ],
      "execution_count": null,
      "outputs": []
    }
  ]
}