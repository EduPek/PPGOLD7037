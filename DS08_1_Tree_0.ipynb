{
 "cells": [
  {
   "cell_type": "markdown",
   "metadata": {
    "id": "kf5t4e_0dIhp"
   },
   "source": [
    "\n",
    "<left>\n",
    "    <img src=\"http://epecora.com.br/DataFiles/PPGOLD_logo.png\" width=\"300\" alt=\"PPGOLD Data Science: INTRO\"  />\n",
    "</left>\n",
    "\n",
    "# *Data Science - PPGOLD*\n",
    "\n",
    "\n",
    "---\n",
    "\n",
    "\n",
    "## Case de distribuição de e-commerce\n",
    "\n"
   ]
  },
  {
   "cell_type": "markdown",
   "metadata": {
    "id": "G1w1UAvzCjle"
   },
   "source": [
    "# **Verifica a versão do Python e importa as bibliotecas básicas**"
   ]
  },
  {
   "cell_type": "code",
   "execution_count": 1,
   "metadata": {
    "button": false,
    "colab": {
     "base_uri": "https://localhost:8080/"
    },
    "id": "QSbu0mjslGwG",
    "new_sheet": false,
    "outputId": "6499b09f-9eb8-4a89-8513-08e4f19cf589",
    "run_control": {
     "read_only": false
    }
   },
   "outputs": [
    {
     "name": "stdout",
     "output_type": "stream",
     "text": [
      "Python 3.9.7\n"
     ]
    }
   ],
   "source": [
    "# check Python version\n",
    "!python -V\n",
    "\n",
    "import pandas as pd # download library to read data into dataframe\n",
    "#pd.set_option('display.max_columns', None)\n",
    "import numpy as np # import numpy library\n",
    "import matplotlib.pyplot as plt # plots\n",
    "import collections\n",
    "import random # library for random number generation\n",
    "\n",
    "#from google.colab import files\n",
    "#import io\n",
    "\n",
    "#import tkinter.filedialog as filedialog\n",
    "#from tkinter import filedialog\n",
    "\n",
    "#import csv\n"
   ]
  },
  {
   "cell_type": "markdown",
   "metadata": {
    "id": "l_lPsFrTbuTJ"
   },
   "source": [
    "#Importar Arquivo de dados\n",
    "\n",
    "Inclua um CSV com os dados a serem analisados\n",
    " * Incluindo cabeçalho\n",
    " * Separação de campos delimitado por *,*\n",
    " * Separação de linha usando *nova linha*\n",
    "\n",
    " O arquivo tem mais de 6000 registros, pode levar alguns segundos."
   ]
  },
  {
   "cell_type": "code",
   "execution_count": 2,
   "metadata": {
    "button": false,
    "colab": {
     "base_uri": "https://localhost:8080/",
     "height": 330,
     "resources": {
      "http://localhost:8080/nbextensions/google.colab/files.js": {
       "data": "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",
       "headers": [
        [
         "content-type",
         "application/javascript"
        ]
       ],
       "ok": true,
       "status": 200,
       "status_text": ""
      }
     }
    },
    "id": "v16i9xgdlGwH",
    "new_sheet": false,
    "outputId": "383768e1-0239-441b-a19f-6a591a1014c5",
    "run_control": {
     "read_only": false
    }
   },
   "outputs": [
    {
     "data": {
      "text/html": [
       "<div>\n",
       "<style scoped>\n",
       "    .dataframe tbody tr th:only-of-type {\n",
       "        vertical-align: middle;\n",
       "    }\n",
       "\n",
       "    .dataframe tbody tr th {\n",
       "        vertical-align: top;\n",
       "    }\n",
       "\n",
       "    .dataframe thead th {\n",
       "        text-align: right;\n",
       "    }\n",
       "</style>\n",
       "<table border=\"1\" class=\"dataframe\">\n",
       "  <thead>\n",
       "    <tr style=\"text-align: right;\">\n",
       "      <th></th>\n",
       "      <th>Stars</th>\n",
       "      <th>Product</th>\n",
       "      <th>Origin</th>\n",
       "      <th>CD_name</th>\n",
       "      <th>Dest</th>\n",
       "      <th>DistanceTravelled_Fac_CD</th>\n",
       "      <th>TruckType</th>\n",
       "      <th>DriverF_CD</th>\n",
       "      <th>DaysStocked</th>\n",
       "      <th>FloorCD</th>\n",
       "      <th>DistanceTravelled_CD_Client</th>\n",
       "      <th>TruckType2</th>\n",
       "      <th>DriverCD_C</th>\n",
       "      <th>RoutDeliveryOrder</th>\n",
       "    </tr>\n",
       "  </thead>\n",
       "  <tbody>\n",
       "    <tr>\n",
       "      <th>0</th>\n",
       "      <td>4.0</td>\n",
       "      <td>P6</td>\n",
       "      <td>F4</td>\n",
       "      <td>CD2</td>\n",
       "      <td>C203</td>\n",
       "      <td>162</td>\n",
       "      <td>SemiTrailler</td>\n",
       "      <td>D05</td>\n",
       "      <td>37</td>\n",
       "      <td>2</td>\n",
       "      <td>59.7</td>\n",
       "      <td>CityDeliveryTruck</td>\n",
       "      <td>D2_2</td>\n",
       "      <td>2.0</td>\n",
       "    </tr>\n",
       "    <tr>\n",
       "      <th>1</th>\n",
       "      <td>1.0</td>\n",
       "      <td>P2</td>\n",
       "      <td>F3</td>\n",
       "      <td>CD2</td>\n",
       "      <td>C202</td>\n",
       "      <td>162</td>\n",
       "      <td>SemiTrailler</td>\n",
       "      <td>D06</td>\n",
       "      <td>5</td>\n",
       "      <td>0</td>\n",
       "      <td>94.2</td>\n",
       "      <td>MiniVan</td>\n",
       "      <td>D2_4</td>\n",
       "      <td>3.0</td>\n",
       "    </tr>\n",
       "    <tr>\n",
       "      <th>2</th>\n",
       "      <td>5.0</td>\n",
       "      <td>P6</td>\n",
       "      <td>F3</td>\n",
       "      <td>CD2</td>\n",
       "      <td>C202</td>\n",
       "      <td>162</td>\n",
       "      <td>SemiTrailler</td>\n",
       "      <td>D04</td>\n",
       "      <td>27</td>\n",
       "      <td>0</td>\n",
       "      <td>30.9</td>\n",
       "      <td>Van</td>\n",
       "      <td>D2_7</td>\n",
       "      <td>1.0</td>\n",
       "    </tr>\n",
       "    <tr>\n",
       "      <th>3</th>\n",
       "      <td>2.0</td>\n",
       "      <td>P9</td>\n",
       "      <td>F3</td>\n",
       "      <td>CD2</td>\n",
       "      <td>C202</td>\n",
       "      <td>162</td>\n",
       "      <td>SemiTrailler</td>\n",
       "      <td>D03</td>\n",
       "      <td>14</td>\n",
       "      <td>0</td>\n",
       "      <td>89.7</td>\n",
       "      <td>Van</td>\n",
       "      <td>D2_7</td>\n",
       "      <td>3.0</td>\n",
       "    </tr>\n",
       "    <tr>\n",
       "      <th>4</th>\n",
       "      <td>5.0</td>\n",
       "      <td>P9</td>\n",
       "      <td>F2</td>\n",
       "      <td>CD3</td>\n",
       "      <td>C305</td>\n",
       "      <td>58</td>\n",
       "      <td>Truck</td>\n",
       "      <td>D03</td>\n",
       "      <td>30</td>\n",
       "      <td>1</td>\n",
       "      <td>171.7</td>\n",
       "      <td>Van</td>\n",
       "      <td>D3_2</td>\n",
       "      <td>6.0</td>\n",
       "    </tr>\n",
       "  </tbody>\n",
       "</table>\n",
       "</div>"
      ],
      "text/plain": [
       "   Stars Product Origin CD_name  Dest  DistanceTravelled_Fac_CD     TruckType  \\\n",
       "0    4.0      P6     F4     CD2  C203                       162  SemiTrailler   \n",
       "1    1.0      P2     F3     CD2  C202                       162  SemiTrailler   \n",
       "2    5.0      P6     F3     CD2  C202                       162  SemiTrailler   \n",
       "3    2.0      P9     F3     CD2  C202                       162  SemiTrailler   \n",
       "4    5.0      P9     F2     CD3  C305                        58         Truck   \n",
       "\n",
       "  DriverF_CD  DaysStocked  FloorCD  DistanceTravelled_CD_Client  \\\n",
       "0        D05           37        2                         59.7   \n",
       "1        D06            5        0                         94.2   \n",
       "2        D04           27        0                         30.9   \n",
       "3        D03           14        0                         89.7   \n",
       "4        D03           30        1                        171.7   \n",
       "\n",
       "          TruckType2 DriverCD_C  RoutDeliveryOrder  \n",
       "0  CityDeliveryTruck       D2_2                2.0  \n",
       "1            MiniVan       D2_4                3.0  \n",
       "2                Van       D2_7                1.0  \n",
       "3                Van       D2_7                3.0  \n",
       "4                Van       D3_2                6.0  "
      ]
     },
     "execution_count": 2,
     "metadata": {},
     "output_type": "execute_result"
    }
   ],
   "source": [
    "starsData = pd.read_csv(\"Distribution_3000_2.csv\")\n",
    "starsData.head()"
   ]
  },
  {
   "cell_type": "markdown",
   "metadata": {
    "id": "lbQQp8MmkyMd"
   },
   "source": [
    "# Padronização do DataTable\n",
    "\n",
    "\n",
    "## Renomear a primeira coluna para \"stars\"\n",
    "\n",
    "Para se adequar ao código"
   ]
  },
  {
   "cell_type": "code",
   "execution_count": 3,
   "metadata": {
    "colab": {
     "base_uri": "https://localhost:8080/"
    },
    "id": "NWF8MbGo4lRa",
    "outputId": "122bb56d-14cd-4892-bd34-539bf257340b"
   },
   "outputs": [
    {
     "name": "stdout",
     "output_type": "stream",
     "text": [
      "['Stars' 'Product' 'Origin' 'CD_name' 'Dest' 'DistanceTravelled_Fac_CD'\n",
      " 'TruckType' 'DriverF_CD' 'DaysStocked' 'FloorCD'\n",
      " 'DistanceTravelled_CD_Client' 'TruckType2' 'DriverCD_C'\n",
      " 'RoutDeliveryOrder']\n",
      "['stars' 'Product' 'Origin' 'CD_name' 'Dest' 'DistanceTravelled_Fac_CD'\n",
      " 'TruckType' 'DriverF_CD' 'DaysStocked' 'FloorCD'\n",
      " 'DistanceTravelled_CD_Client' 'TruckType2' 'DriverCD_C'\n",
      " 'RoutDeliveryOrder']\n"
     ]
    }
   ],
   "source": [
    "# fix name of the column displaying the Stars\n",
    "column_names = starsData.columns.values\n",
    "print(starsData.columns.values)\n",
    "column_names[0] = \"stars\"\n",
    "starsData.columns = column_names\n",
    "print(column_names)\n"
   ]
  },
  {
   "cell_type": "markdown",
   "metadata": {
    "id": "YhBvGw5ulFva"
   },
   "source": [
    "# Verificando os dados\n",
    "\n",
    "## Em um contexto real, deveríamos verificar cada coluna minuciosamente procurando por valores fora dos padrões. Mas aqui vamos \"verificar\" somente a coluna \"stars\"\n",
    "\n",
    "### Exemplos mais comuns de valores fora dos padrões são: \n",
    "\n",
    "* Valores numéricos fora do intervalo, por exemplo quantidades de estrelas igual a 15, quando devia ser de 1 a 5.\n",
    "* Texto no local de valores numéricos\n",
    "* Valores \"nan\" Not a Number\n",
    "* Para valores de categorias, no nosso exemplo os produtos são P1, P2, P3; Caso apareca um \"Produto 1\" precisa ser uniformizado\n"
   ]
  },
  {
   "cell_type": "code",
   "execution_count": 4,
   "metadata": {
    "colab": {
     "base_uri": "https://localhost:8080/",
     "height": 366
    },
    "id": "AFLRf8amuC5_",
    "outputId": "0bc85faa-9805-4194-f72a-5257ba65bf3b"
   },
   "outputs": [
    {
     "name": "stdout",
     "output_type": "stream",
     "text": [
      "3.0360038923126824\n",
      "[(1.0, 577), (2.0, 590), (3.0, 686), (4.0, 618), (5.0, 599), (6.0, 13), (nan, 1), (nan, 1), (nan, 1), (nan, 1), (nan, 1), (nan, 1), (nan, 1), (nan, 1), (nan, 1), (nan, 1), (nan, 1), (nan, 1), (nan, 1), (nan, 1), (nan, 1), (nan, 1), (nan, 1), (nan, 1), (nan, 1), (nan, 1), (nan, 1)]\n"
     ]
    },
    {
     "data": {
      "image/png": "[encoded data removed]",
      "text/plain": [
       "<Figure size 432x288 with 1 Axes>"
      ]
     },
     "metadata": {
      "needs_background": "light"
     },
     "output_type": "display_data"
    },
    {
     "name": "stdout",
     "output_type": "stream",
     "text": [
      "[1.0, 2.0, 3.0, 4.0, 5.0, 6.0, nan, nan, nan, nan, nan, nan, nan, nan, nan, nan, nan, nan, nan, nan, nan, nan, nan, nan, nan, nan, nan]\n"
     ]
    }
   ],
   "source": [
    "starsData[\"stars\"].value_counts() # frequency table\n",
    "\n",
    "print(starsData[\"stars\"].mean())\n",
    "\n",
    "c = collections.Counter(starsData[\"stars\"])\n",
    "c = sorted(c.items())\n",
    "print(c)\n",
    "\n",
    "stars_num = [i[0] for i in c]\n",
    "freq = [i[1] for i in c]\n",
    "\n",
    "f, ax = plt.subplots()\n",
    "\n",
    "plt.bar(stars_num, freq)\n",
    "\n",
    "plt.title(\"Stars Frequency\")\n",
    "plt.xlabel(\"Stars\")\n",
    "plt.ylabel(\"Frequency\")\n",
    "\n",
    "plt.show()\n",
    "\n",
    "print(stars_num)"
   ]
  },
  {
   "cell_type": "markdown",
   "metadata": {
    "id": "S8GbaOIZMWM6"
   },
   "source": [
    "# Existem dados fora do intevalo de estrelas [1,5] , alguns valores são 6 outros são NAN\n",
    "\n",
    "##Limpar dados de estrelas fora do intervalo [1,5], excluindo os registros"
   ]
  },
  {
   "cell_type": "code",
   "execution_count": 5,
   "metadata": {
    "colab": {
     "base_uri": "https://localhost:8080/",
     "height": 346
    },
    "id": "FghJezLtNdHO",
    "outputId": "8033ab2c-79c4-41a3-ac29-d5c8728d4ff0"
   },
   "outputs": [
    {
     "name": "stdout",
     "output_type": "stream",
     "text": [
      "3.0234527687296415\n",
      "[(1.0, 577), (2.0, 590), (3.0, 686), (4.0, 618), (5.0, 599)]\n"
     ]
    },
    {
     "data": {
      "image/png": "[encoded data removed]",
      "text/plain": [
       "<Figure size 432x288 with 1 Axes>"
      ]
     },
     "metadata": {
      "needs_background": "light"
     },
     "output_type": "display_data"
    },
    {
     "name": "stdout",
     "output_type": "stream",
     "text": [
      "[1.0, 2.0, 3.0, 4.0, 5.0]\n"
     ]
    }
   ],
   "source": [
    "starsData = starsData[starsData[\"stars\"] <= 5]\n",
    "starsData = starsData[starsData[\"stars\"] >= 1]\n",
    "\n",
    "starsData = starsData[starsData[\"FloorCD\"] <= 4] # aproveitei e padronizei outros dados numéricos também\n",
    "starsData = starsData[starsData[\"FloorCD\"] >= 0]\n",
    "\n",
    "starsData = starsData[starsData[\"RoutDeliveryOrder\"] <= 6]\n",
    "starsData = starsData[starsData[\"RoutDeliveryOrder\"] >= 1]\n",
    "\n",
    "starsData[\"stars\"].value_counts() # frequency table\n",
    "\n",
    "print(starsData[\"stars\"].mean())\n",
    "\n",
    "c = collections.Counter(starsData[\"stars\"])\n",
    "c = sorted(c.items())\n",
    "print(c)\n",
    "\n",
    "stars_num = [i[0] for i in c]\n",
    "freq = [i[1] for i in c]\n",
    "\n",
    "f, ax = plt.subplots()\n",
    "\n",
    "plt.bar(stars_num, freq)\n",
    "\n",
    "plt.title(\"Stars Frequency\")\n",
    "plt.xlabel(\"Stars\")\n",
    "plt.ylabel(\"Frequency\")\n",
    "\n",
    "plt.show()\n",
    "\n",
    "print(stars_num)\n",
    "\n",
    "starsData = starsData.reset_index(drop=True) # É importante refazer o indice do dataFrame, apeos excluir linhas, pois pode gerar problema no SciKit Learn\n"
   ]
  },
  {
   "cell_type": "markdown",
   "metadata": {
    "id": "DD7oHMU-5RkO"
   },
   "source": [
    "#Outras inconsistências nos dados\n",
    "\n",
    "### Note a coluna Driver_F_CD, ela só tem os valores \"D01\" ... \"D06\" mas não sabemos se o motorista D01 pode trabalhar no CD1, CD2 ou CD3 ? Isso não te parece no mínimo esquisito ?\n",
    "\n",
    "### Fica como Lição de casa você pensar em uma alternativa\n"
   ]
  },
  {
   "cell_type": "code",
   "execution_count": 6,
   "metadata": {
    "colab": {
     "base_uri": "https://localhost:8080/",
     "height": 376
    },
    "id": "ZvgwIm1n4KS1",
    "outputId": "c6fc5777-09c6-4cfa-cb94-7a139db9e51e"
   },
   "outputs": [
    {
     "data": {
      "image/png": "[encoded data removed]",
      "text/plain": [
       "<Figure size 432x288 with 1 Axes>"
      ]
     },
     "metadata": {
      "needs_background": "light"
     },
     "output_type": "display_data"
    },
    {
     "name": "stdout",
     "output_type": "stream",
     "text": [
      "DriverF_CD  D01  D02  D03  D04  D05  D06\n",
      "CD_name                                 \n",
      "CD1         158  194  176  188  171  186\n",
      "CD2         147  169  155  175  155  186\n",
      "CD3         172  165  156  180  162  175\n"
     ]
    }
   ],
   "source": [
    "ct = pd.crosstab(index=starsData['CD_name'], columns=starsData['DriverF_CD'])\n",
    "\n",
    "ct.plot.bar(stacked=True)\n",
    "plt.legend(title='Driver')\n",
    "\n",
    "plt.show()\n",
    "\n",
    "print(ct)\n"
   ]
  },
  {
   "cell_type": "markdown",
   "metadata": {
    "id": "ybeylih_rP96"
   },
   "source": [
    "# Começando a análise\n",
    "\n",
    "## Importar as bibliotecas: \n",
    "* SKLEARN\n",
    "* graphviz\n",
    "* matplotlib\n"
   ]
  },
  {
   "cell_type": "code",
   "execution_count": 7,
   "metadata": {
    "button": false,
    "id": "Onk8NCykljQb",
    "new_sheet": false,
    "run_control": {
     "read_only": false
    }
   },
   "outputs": [],
   "source": [
    "# import decision trees scikit-learn libraries\n",
    "%matplotlib inline\n",
    "from sklearn import tree\n",
    "from sklearn.metrics import accuracy_score, confusion_matrix # Não usaremos essas métricas neste exemplo\n",
    "\n",
    "import matplotlib.pyplot as plt\n",
    "\n",
    "#!conda install python-graphviz --yes\n",
    "import graphviz\n",
    "\n",
    "from sklearn.tree import export_graphviz\n",
    "\n",
    "import itertools"
   ]
  },
  {
   "cell_type": "markdown",
   "metadata": {
    "id": "eCCRt-5_r4I7"
   },
   "source": [
    "# Separar o dataFrame em variáveis dependentes e independentes"
   ]
  },
  {
   "cell_type": "code",
   "execution_count": 8,
   "metadata": {
    "button": false,
    "colab": {
     "base_uri": "https://localhost:8080/"
    },
    "collapsed": false,
    "id": "A4BXdakoljQf",
    "jupyter": {
     "outputs_hidden": false
    },
    "new_sheet": false,
    "outputId": "7378ef3e-304a-4f18-d822-a135c7530fb8",
    "run_control": {
     "read_only": false
    }
   },
   "outputs": [
    {
     "data": {
      "text/plain": [
       "0    4.0\n",
       "1    1.0\n",
       "2    5.0\n",
       "3    2.0\n",
       "4    5.0\n",
       "Name: stars, dtype: float64"
      ]
     },
     "execution_count": 8,
     "metadata": {},
     "output_type": "execute_result"
    }
   ],
   "source": [
    "# split the DataFrame\n",
    "stars = starsData[\"stars\"] # Só a coluna \"stars\"\n",
    "stars_class = stars[:]\n",
    "variables = starsData.iloc[:,1:] # Todas as outras colunas com excessão da \"stars\"\n",
    "\n",
    "# Deixe essa parte do código comentado poor enquanto\n",
    "\n",
    "#stars_class.loc[stars <= 2] = \"bad\"\n",
    "#stars_class.loc[stars == 3] = \"average\"\n",
    "#stars_class.loc[stars >= 4] = \"good\"\n",
    "\n",
    "stars_class.head()"
   ]
  },
  {
   "cell_type": "code",
   "execution_count": 9,
   "metadata": {
    "colab": {
     "base_uri": "https://localhost:8080/",
     "height": 204
    },
    "id": "5NxfaEsj7JqS",
    "outputId": "1e78599a-80a4-4936-ba60-b24b8960aa6f"
   },
   "outputs": [
    {
     "data": {
      "text/html": [
       "<div>\n",
       "<style scoped>\n",
       "    .dataframe tbody tr th:only-of-type {\n",
       "        vertical-align: middle;\n",
       "    }\n",
       "\n",
       "    .dataframe tbody tr th {\n",
       "        vertical-align: top;\n",
       "    }\n",
       "\n",
       "    .dataframe thead th {\n",
       "        text-align: right;\n",
       "    }\n",
       "</style>\n",
       "<table border=\"1\" class=\"dataframe\">\n",
       "  <thead>\n",
       "    <tr style=\"text-align: right;\">\n",
       "      <th></th>\n",
       "      <th>Product</th>\n",
       "      <th>Origin</th>\n",
       "      <th>CD_name</th>\n",
       "      <th>Dest</th>\n",
       "      <th>DistanceTravelled_Fac_CD</th>\n",
       "      <th>TruckType</th>\n",
       "      <th>DriverF_CD</th>\n",
       "      <th>DaysStocked</th>\n",
       "      <th>FloorCD</th>\n",
       "      <th>DistanceTravelled_CD_Client</th>\n",
       "      <th>TruckType2</th>\n",
       "      <th>DriverCD_C</th>\n",
       "      <th>RoutDeliveryOrder</th>\n",
       "    </tr>\n",
       "  </thead>\n",
       "  <tbody>\n",
       "    <tr>\n",
       "      <th>0</th>\n",
       "      <td>P6</td>\n",
       "      <td>F4</td>\n",
       "      <td>CD2</td>\n",
       "      <td>C203</td>\n",
       "      <td>162</td>\n",
       "      <td>SemiTrailler</td>\n",
       "      <td>D05</td>\n",
       "      <td>37</td>\n",
       "      <td>2</td>\n",
       "      <td>59.7</td>\n",
       "      <td>CityDeliveryTruck</td>\n",
       "      <td>D2_2</td>\n",
       "      <td>2.0</td>\n",
       "    </tr>\n",
       "    <tr>\n",
       "      <th>1</th>\n",
       "      <td>P2</td>\n",
       "      <td>F3</td>\n",
       "      <td>CD2</td>\n",
       "      <td>C202</td>\n",
       "      <td>162</td>\n",
       "      <td>SemiTrailler</td>\n",
       "      <td>D06</td>\n",
       "      <td>5</td>\n",
       "      <td>0</td>\n",
       "      <td>94.2</td>\n",
       "      <td>MiniVan</td>\n",
       "      <td>D2_4</td>\n",
       "      <td>3.0</td>\n",
       "    </tr>\n",
       "    <tr>\n",
       "      <th>2</th>\n",
       "      <td>P6</td>\n",
       "      <td>F3</td>\n",
       "      <td>CD2</td>\n",
       "      <td>C202</td>\n",
       "      <td>162</td>\n",
       "      <td>SemiTrailler</td>\n",
       "      <td>D04</td>\n",
       "      <td>27</td>\n",
       "      <td>0</td>\n",
       "      <td>30.9</td>\n",
       "      <td>Van</td>\n",
       "      <td>D2_7</td>\n",
       "      <td>1.0</td>\n",
       "    </tr>\n",
       "    <tr>\n",
       "      <th>3</th>\n",
       "      <td>P9</td>\n",
       "      <td>F3</td>\n",
       "      <td>CD2</td>\n",
       "      <td>C202</td>\n",
       "      <td>162</td>\n",
       "      <td>SemiTrailler</td>\n",
       "      <td>D03</td>\n",
       "      <td>14</td>\n",
       "      <td>0</td>\n",
       "      <td>89.7</td>\n",
       "      <td>Van</td>\n",
       "      <td>D2_7</td>\n",
       "      <td>3.0</td>\n",
       "    </tr>\n",
       "    <tr>\n",
       "      <th>4</th>\n",
       "      <td>P9</td>\n",
       "      <td>F2</td>\n",
       "      <td>CD3</td>\n",
       "      <td>C305</td>\n",
       "      <td>58</td>\n",
       "      <td>Truck</td>\n",
       "      <td>D03</td>\n",
       "      <td>30</td>\n",
       "      <td>1</td>\n",
       "      <td>171.7</td>\n",
       "      <td>Van</td>\n",
       "      <td>D3_2</td>\n",
       "      <td>6.0</td>\n",
       "    </tr>\n",
       "  </tbody>\n",
       "</table>\n",
       "</div>"
      ],
      "text/plain": [
       "  Product Origin CD_name  Dest  DistanceTravelled_Fac_CD     TruckType  \\\n",
       "0      P6     F4     CD2  C203                       162  SemiTrailler   \n",
       "1      P2     F3     CD2  C202                       162  SemiTrailler   \n",
       "2      P6     F3     CD2  C202                       162  SemiTrailler   \n",
       "3      P9     F3     CD2  C202                       162  SemiTrailler   \n",
       "4      P9     F2     CD3  C305                        58         Truck   \n",
       "\n",
       "  DriverF_CD  DaysStocked  FloorCD  DistanceTravelled_CD_Client  \\\n",
       "0        D05           37        2                         59.7   \n",
       "1        D06            5        0                         94.2   \n",
       "2        D04           27        0                         30.9   \n",
       "3        D03           14        0                         89.7   \n",
       "4        D03           30        1                        171.7   \n",
       "\n",
       "          TruckType2 DriverCD_C  RoutDeliveryOrder  \n",
       "0  CityDeliveryTruck       D2_2                2.0  \n",
       "1            MiniVan       D2_4                3.0  \n",
       "2                Van       D2_7                1.0  \n",
       "3                Van       D2_7                3.0  \n",
       "4                Van       D3_2                6.0  "
      ]
     },
     "execution_count": 9,
     "metadata": {},
     "output_type": "execute_result"
    }
   ],
   "source": [
    "variables.head()"
   ]
  },
  {
   "cell_type": "markdown",
   "metadata": {
    "id": "13OQZX-nsS_6"
   },
   "source": [
    "# Adequação das variáveis categóricas em colunas binárias - OneHotEncoder\n",
    "\n",
    "\n"
   ]
  },
  {
   "cell_type": "code",
   "execution_count": 9,
   "metadata": {
    "colab": {
     "base_uri": "https://localhost:8080/",
     "height": 224
    },
    "id": "GBmtfwUC7F9j",
    "outputId": "ef40503c-025d-4a95-f7a0-40d833345c07"
   },
   "outputs": [
    {
     "data": {
      "text/html": [
       "<div>\n",
       "<style scoped>\n",
       "    .dataframe tbody tr th:only-of-type {\n",
       "        vertical-align: middle;\n",
       "    }\n",
       "\n",
       "    .dataframe tbody tr th {\n",
       "        vertical-align: top;\n",
       "    }\n",
       "\n",
       "    .dataframe thead th {\n",
       "        text-align: right;\n",
       "    }\n",
       "</style>\n",
       "<table border=\"1\" class=\"dataframe\">\n",
       "  <thead>\n",
       "    <tr style=\"text-align: right;\">\n",
       "      <th></th>\n",
       "      <th>Product_P1</th>\n",
       "      <th>Product_P10</th>\n",
       "      <th>Product_P11</th>\n",
       "      <th>Product_P12</th>\n",
       "      <th>Product_P13</th>\n",
       "      <th>Product_P14</th>\n",
       "      <th>Product_P15</th>\n",
       "      <th>Product_P2</th>\n",
       "      <th>Product_P3</th>\n",
       "      <th>Product_P4</th>\n",
       "      <th>...</th>\n",
       "      <th>DriverCD_C_D2_6</th>\n",
       "      <th>DriverCD_C_D2_7</th>\n",
       "      <th>DriverCD_C_D3_1</th>\n",
       "      <th>DriverCD_C_D3_2</th>\n",
       "      <th>DriverCD_C_D3_3</th>\n",
       "      <th>DriverCD_C_D3_4</th>\n",
       "      <th>DriverCD_C_D3_5</th>\n",
       "      <th>DriverCD_C_D3_6</th>\n",
       "      <th>DriverCD_C_D3_7</th>\n",
       "      <th>RoutDeliveryOrder</th>\n",
       "    </tr>\n",
       "  </thead>\n",
       "  <tbody>\n",
       "    <tr>\n",
       "      <th>0</th>\n",
       "      <td>0</td>\n",
       "      <td>0</td>\n",
       "      <td>0</td>\n",
       "      <td>0</td>\n",
       "      <td>0</td>\n",
       "      <td>0</td>\n",
       "      <td>0</td>\n",
       "      <td>0</td>\n",
       "      <td>0</td>\n",
       "      <td>0</td>\n",
       "      <td>...</td>\n",
       "      <td>0</td>\n",
       "      <td>0</td>\n",
       "      <td>0</td>\n",
       "      <td>0</td>\n",
       "      <td>0</td>\n",
       "      <td>0</td>\n",
       "      <td>0</td>\n",
       "      <td>0</td>\n",
       "      <td>0</td>\n",
       "      <td>2.0</td>\n",
       "    </tr>\n",
       "    <tr>\n",
       "      <th>1</th>\n",
       "      <td>0</td>\n",
       "      <td>0</td>\n",
       "      <td>0</td>\n",
       "      <td>0</td>\n",
       "      <td>0</td>\n",
       "      <td>0</td>\n",
       "      <td>0</td>\n",
       "      <td>1</td>\n",
       "      <td>0</td>\n",
       "      <td>0</td>\n",
       "      <td>...</td>\n",
       "      <td>0</td>\n",
       "      <td>0</td>\n",
       "      <td>0</td>\n",
       "      <td>0</td>\n",
       "      <td>0</td>\n",
       "      <td>0</td>\n",
       "      <td>0</td>\n",
       "      <td>0</td>\n",
       "      <td>0</td>\n",
       "      <td>3.0</td>\n",
       "    </tr>\n",
       "    <tr>\n",
       "      <th>2</th>\n",
       "      <td>0</td>\n",
       "      <td>0</td>\n",
       "      <td>0</td>\n",
       "      <td>0</td>\n",
       "      <td>0</td>\n",
       "      <td>0</td>\n",
       "      <td>0</td>\n",
       "      <td>0</td>\n",
       "      <td>0</td>\n",
       "      <td>0</td>\n",
       "      <td>...</td>\n",
       "      <td>0</td>\n",
       "      <td>1</td>\n",
       "      <td>0</td>\n",
       "      <td>0</td>\n",
       "      <td>0</td>\n",
       "      <td>0</td>\n",
       "      <td>0</td>\n",
       "      <td>0</td>\n",
       "      <td>0</td>\n",
       "      <td>1.0</td>\n",
       "    </tr>\n",
       "    <tr>\n",
       "      <th>3</th>\n",
       "      <td>0</td>\n",
       "      <td>0</td>\n",
       "      <td>0</td>\n",
       "      <td>0</td>\n",
       "      <td>0</td>\n",
       "      <td>0</td>\n",
       "      <td>0</td>\n",
       "      <td>0</td>\n",
       "      <td>0</td>\n",
       "      <td>0</td>\n",
       "      <td>...</td>\n",
       "      <td>0</td>\n",
       "      <td>1</td>\n",
       "      <td>0</td>\n",
       "      <td>0</td>\n",
       "      <td>0</td>\n",
       "      <td>0</td>\n",
       "      <td>0</td>\n",
       "      <td>0</td>\n",
       "      <td>0</td>\n",
       "      <td>3.0</td>\n",
       "    </tr>\n",
       "    <tr>\n",
       "      <th>4</th>\n",
       "      <td>0</td>\n",
       "      <td>0</td>\n",
       "      <td>0</td>\n",
       "      <td>0</td>\n",
       "      <td>0</td>\n",
       "      <td>0</td>\n",
       "      <td>0</td>\n",
       "      <td>0</td>\n",
       "      <td>0</td>\n",
       "      <td>0</td>\n",
       "      <td>...</td>\n",
       "      <td>0</td>\n",
       "      <td>0</td>\n",
       "      <td>0</td>\n",
       "      <td>1</td>\n",
       "      <td>0</td>\n",
       "      <td>0</td>\n",
       "      <td>0</td>\n",
       "      <td>0</td>\n",
       "      <td>0</td>\n",
       "      <td>6.0</td>\n",
       "    </tr>\n",
       "  </tbody>\n",
       "</table>\n",
       "<p>5 rows × 69 columns</p>\n",
       "</div>"
      ],
      "text/plain": [
       "   Product_P1  Product_P10  Product_P11  Product_P12  Product_P13  \\\n",
       "0           0            0            0            0            0   \n",
       "1           0            0            0            0            0   \n",
       "2           0            0            0            0            0   \n",
       "3           0            0            0            0            0   \n",
       "4           0            0            0            0            0   \n",
       "\n",
       "   Product_P14  Product_P15  Product_P2  Product_P3  Product_P4  ...  \\\n",
       "0            0            0           0           0           0  ...   \n",
       "1            0            0           1           0           0  ...   \n",
       "2            0            0           0           0           0  ...   \n",
       "3            0            0           0           0           0  ...   \n",
       "4            0            0           0           0           0  ...   \n",
       "\n",
       "   DriverCD_C_D2_6  DriverCD_C_D2_7  DriverCD_C_D3_1  DriverCD_C_D3_2  \\\n",
       "0                0                0                0                0   \n",
       "1                0                0                0                0   \n",
       "2                0                1                0                0   \n",
       "3                0                1                0                0   \n",
       "4                0                0                0                1   \n",
       "\n",
       "   DriverCD_C_D3_3  DriverCD_C_D3_4  DriverCD_C_D3_5  DriverCD_C_D3_6  \\\n",
       "0                0                0                0                0   \n",
       "1                0                0                0                0   \n",
       "2                0                0                0                0   \n",
       "3                0                0                0                0   \n",
       "4                0                0                0                0   \n",
       "\n",
       "   DriverCD_C_D3_7  RoutDeliveryOrder  \n",
       "0                0                2.0  \n",
       "1                0                3.0  \n",
       "2                0                1.0  \n",
       "3                0                3.0  \n",
       "4                0                6.0  \n",
       "\n",
       "[5 rows x 69 columns]"
      ]
     },
     "execution_count": 9,
     "metadata": {},
     "output_type": "execute_result"
    }
   ],
   "source": [
    "from sklearn.preprocessing import OneHotEncoder\n",
    "\n",
    "enc = OneHotEncoder(handle_unknown='ignore', sparse= False)\n",
    "\n",
    "prod_encoded = pd.DataFrame (enc.fit_transform(variables[['Product']])).astype(int)\n",
    "prod_encoded.columns = enc.get_feature_names_out(['Product'])\n",
    "\n",
    "origin_encoded = pd.DataFrame (enc.fit_transform(variables[['Origin']])).astype(int)\n",
    "origin_encoded.columns = enc.get_feature_names_out(['Origin'])\n",
    "\n",
    "CD_encoded = pd.DataFrame (enc.fit_transform(variables[['CD_name']])).astype(int)\n",
    "CD_encoded.columns = enc.get_feature_names_out(['CD_name'])\n",
    "\n",
    "Destination_encoded = pd.DataFrame (enc.fit_transform(variables[['Dest']])).astype(int)\n",
    "Destination_encoded.columns = enc.get_feature_names_out(['Dest'])\n",
    "\n",
    "TruckType_encoded = pd.DataFrame (enc.fit_transform(variables[['TruckType']])).astype(int)\n",
    "TruckType_encoded.columns = enc.get_feature_names_out(['TruckType'])\n",
    "\n",
    "FloorCD_encoded = pd.DataFrame (enc.fit_transform(variables[['FloorCD']])).astype(int)\n",
    "FloorCD_encoded.columns = enc.get_feature_names_out(['FloorCD'])\n",
    "\n",
    "TruckType2_encoded = pd.DataFrame (enc.fit_transform(variables[['TruckType2']])).astype(int)\n",
    "TruckType2_encoded.columns = enc.get_feature_names_out(['TruckType2'])\n",
    "\n",
    "DriverCD_C_encoded = pd.DataFrame (enc.fit_transform(variables[['DriverCD_C']])).astype(int)\n",
    "DriverCD_C_encoded.columns = enc.get_feature_names_out(['DriverCD_C'])\n",
    "\n",
    "var1 = pd.concat([prod_encoded, origin_encoded, CD_encoded, Destination_encoded, TruckType_encoded, FloorCD_encoded, TruckType2_encoded, DriverCD_C_encoded, variables[\"RoutDeliveryOrder\"]], axis=1)\n",
    "\n",
    "var1.head()\n",
    "\n",
    "\n"
   ]
  },
  {
   "cell_type": "markdown",
   "metadata": {
    "id": "gIW-qbYVuGod"
   },
   "source": [
    "## DecisionTreeClassifier e os seus Parâmetros\n",
    "\n",
    "O algoritimo do DecisionTreeClassifier tem a tendência natural de fazer um OVERFITING, para ajustar isso modificamos os parâmetros:\n",
    "\n",
    "* max_depth : Profundidade máxima da árvore\n",
    "* min_samples_split : quantidade mínima de amostras para se dividir um nó\n",
    "* min_samples_leaf : Quantidade mínima de amostras em um nó folha (nó da base da árvore)"
   ]
  },
  {
   "cell_type": "code",
   "execution_count": 11,
   "metadata": {
    "colab": {
     "base_uri": "https://localhost:8080/"
    },
    "id": "SqGXSP0R_ku6",
    "outputId": "f266543f-e8ef-401e-a5c2-4166178f2f4f"
   },
   "outputs": [
    {
     "name": "stdout",
     "output_type": "stream",
     "text": [
      "Decision tree model saved to delivery_tree!\n",
      "DecisionTreeClassifier(max_depth=4)\n",
      "['Product_P1' 'Product_P10' 'Product_P11' 'Product_P12' 'Product_P13'\n",
      " 'Product_P14' 'Product_P15' 'Product_P2' 'Product_P3' 'Product_P4'\n",
      " 'Product_P5' 'Product_P6' 'Product_P7' 'Product_P8' 'Product_P9'\n",
      " 'Origin_F1' 'Origin_F2' 'Origin_F3' 'Origin_F4' 'CD_name_CD1'\n",
      " 'CD_name_CD2' 'CD_name_CD3' 'Dest_C101' 'Dest_C102' 'Dest_C103'\n",
      " 'Dest_C104' 'Dest_C105' 'Dest_C201' 'Dest_C202' 'Dest_C203' 'Dest_C204'\n",
      " 'Dest_C205' 'Dest_C301' 'Dest_C302' 'Dest_C303' 'Dest_C304' 'Dest_C305'\n",
      " 'TruckType_SemiTrailler' 'TruckType_Truck' 'FloorCD_0' 'FloorCD_1'\n",
      " 'FloorCD_2' 'FloorCD_3' 'FloorCD_4' 'TruckType2_CityDeliveryTruck'\n",
      " 'TruckType2_MiniVan' 'TruckType2_Van' 'DriverCD_C_D1_1' 'DriverCD_C_D1_2'\n",
      " 'DriverCD_C_D1_3' 'DriverCD_C_D1_4' 'DriverCD_C_D1_5' 'DriverCD_C_D1_6'\n",
      " 'DriverCD_C_D1_7' 'DriverCD_C_D2_1' 'DriverCD_C_D2_2' 'DriverCD_C_D2_3'\n",
      " 'DriverCD_C_D2_4' 'DriverCD_C_D2_5' 'DriverCD_C_D2_6' 'DriverCD_C_D2_7'\n",
      " 'DriverCD_C_D3_1' 'DriverCD_C_D3_2' 'DriverCD_C_D3_3' 'DriverCD_C_D3_4'\n",
      " 'DriverCD_C_D3_5' 'DriverCD_C_D3_6' 'DriverCD_C_D3_7' 'RoutDeliveryOrder']\n"
     ]
    }
   ],
   "source": [
    "delivery_tree = tree.DecisionTreeClassifier(max_depth = 4, min_samples_split = 2, min_samples_leaf = 1)\n",
    "delivery_tree.fit(var1, stars_class)\n",
    "\n",
    "print(\"Decision tree model saved to delivery_tree!\")\n",
    "print(delivery_tree)\n",
    "print(var1.columns.values)"
   ]
  },
  {
   "cell_type": "markdown",
   "metadata": {
    "id": "CyLSxHbxur6Y"
   },
   "source": [
    "# Resultados em formato gráfico são sempre melhores ;)"
   ]
  },
  {
   "cell_type": "code",
   "execution_count": 12,
   "metadata": {
    "colab": {
     "base_uri": "https://localhost:8080/",
     "height": 777
    },
    "id": "_4lp-QBX6Ue4",
    "outputId": "e1914292-5a68-418e-a110-09b792ca7c09"
   },
   "outputs": [],
   "source": [
    "export_graphviz(delivery_tree,\n",
    "                feature_names=list(var1.columns.values),\n",
    "                out_file=\"delivery_tree.dot\",\n",
    "                class_names=np.unique(stars_class.astype(str)),\n",
    "                filled=True,\n",
    "                rounded=True,\n",
    "                node_ids=True,\n",
    "                special_characters=True,\n",
    "                impurity=False,\n",
    "                label=\"all\",\n",
    "                leaves_parallel = False)"
   ]
  },
  {
   "cell_type": "markdown",
   "metadata": {
    "id": "upoMZ7idwYdH"
   },
   "source": [
    "# *Brinque um pouco com os parâmetros modificando-os para ver o que acontece!*"
   ]
  },
  {
   "cell_type": "code",
   "execution_count": 15,
   "metadata": {},
   "outputs": [
    {
     "name": "stdout",
     "output_type": "stream",
     "text": [
      "Collecting package metadata (current_repodata.json): done\n",
      "Solving environment: failed with initial frozen solve. Retrying with flexible solve.\n",
      "Solving environment: failed with repodata from current_repodata.json, will retry with next repodata source.\n",
      "Collecting package metadata (repodata.json): done\n",
      "Solving environment: failed with initial frozen solve. Retrying with flexible solve.\n",
      "Solving environment: / \n",
      "Found conflicts! Looking for incompatible packages.\n",
      "This can take several minutes.  Press CTRL-C to abort.\n",
      "Examining conflict for python-graphviz pickleshare pyzmq nbconvert matplotlib-- ^C\n",
      "                                                                               failed\n",
      "\n",
      "CondaError: KeyboardInterrupt\n",
      "\n"
     ]
    }
   ],
   "source": [
    "!conda install python-graphviz --yes\n",
    "\n"
   ]
  },
  {
   "cell_type": "code",
   "execution_count": 16,
   "metadata": {},
   "outputs": [],
   "source": [
    "with open(\"delivery_tree.dot\") as delivery_tree_image:\n",
    "    delivery_tree_graph = delivery_tree_image.read()\n"
   ]
  },
  {
   "cell_type": "code",
   "execution_count": 17,
   "metadata": {},
   "outputs": [
    {
     "ename": "ExecutableNotFound",
     "evalue": "failed to execute 'dot', make sure the Graphviz executables are on your systems' PATH",
     "output_type": "error",
     "traceback": [
      "\u001b[0;31m---------------------------------------------------------------------------\u001b[0m",
      "\u001b[0;31mFileNotFoundError\u001b[0m                         Traceback (most recent call last)",
      "\u001b[0;32m/opt/anaconda3/envs/Sci/lib/python3.9/site-packages/graphviz/backend.py\u001b[0m in \u001b[0;36mrun\u001b[0;34m(cmd, input, capture_output, check, encoding, quiet, **kwargs)\u001b[0m\n\u001b[1;32m    169\u001b[0m     \u001b[0;32mtry\u001b[0m\u001b[0;34m:\u001b[0m\u001b[0;34m\u001b[0m\u001b[0;34m\u001b[0m\u001b[0m\n\u001b[0;32m--> 170\u001b[0;31m         \u001b[0mproc\u001b[0m \u001b[0;34m=\u001b[0m \u001b[0msubprocess\u001b[0m\u001b[0;34m.\u001b[0m\u001b[0mPopen\u001b[0m\u001b[0;34m(\u001b[0m\u001b[0mcmd\u001b[0m\u001b[0;34m,\u001b[0m \u001b[0mstartupinfo\u001b[0m\u001b[0;34m=\u001b[0m\u001b[0mget_startupinfo\u001b[0m\u001b[0;34m(\u001b[0m\u001b[0;34m)\u001b[0m\u001b[0;34m,\u001b[0m \u001b[0;34m**\u001b[0m\u001b[0mkwargs\u001b[0m\u001b[0;34m)\u001b[0m\u001b[0;34m\u001b[0m\u001b[0;34m\u001b[0m\u001b[0m\n\u001b[0m\u001b[1;32m    171\u001b[0m     \u001b[0;32mexcept\u001b[0m \u001b[0mOSError\u001b[0m \u001b[0;32mas\u001b[0m \u001b[0me\u001b[0m\u001b[0;34m:\u001b[0m\u001b[0;34m\u001b[0m\u001b[0;34m\u001b[0m\u001b[0m\n",
      "\u001b[0;32m/opt/anaconda3/envs/Sci/lib/python3.9/subprocess.py\u001b[0m in \u001b[0;36m__init__\u001b[0;34m(self, args, bufsize, executable, stdin, stdout, stderr, preexec_fn, close_fds, shell, cwd, env, universal_newlines, startupinfo, creationflags, restore_signals, start_new_session, pass_fds, user, group, extra_groups, encoding, errors, text, umask)\u001b[0m\n\u001b[1;32m    950\u001b[0m \u001b[0;34m\u001b[0m\u001b[0m\n\u001b[0;32m--> 951\u001b[0;31m             self._execute_child(args, executable, preexec_fn, close_fds,\n\u001b[0m\u001b[1;32m    952\u001b[0m                                 \u001b[0mpass_fds\u001b[0m\u001b[0;34m,\u001b[0m \u001b[0mcwd\u001b[0m\u001b[0;34m,\u001b[0m \u001b[0menv\u001b[0m\u001b[0;34m,\u001b[0m\u001b[0;34m\u001b[0m\u001b[0;34m\u001b[0m\u001b[0m\n",
      "\u001b[0;32m/opt/anaconda3/envs/Sci/lib/python3.9/subprocess.py\u001b[0m in \u001b[0;36m_execute_child\u001b[0;34m(self, args, executable, preexec_fn, close_fds, pass_fds, cwd, env, startupinfo, creationflags, shell, p2cread, p2cwrite, c2pread, c2pwrite, errread, errwrite, restore_signals, gid, gids, uid, umask, start_new_session)\u001b[0m\n\u001b[1;32m   1820\u001b[0m                         \u001b[0merr_msg\u001b[0m \u001b[0;34m=\u001b[0m \u001b[0mos\u001b[0m\u001b[0;34m.\u001b[0m\u001b[0mstrerror\u001b[0m\u001b[0;34m(\u001b[0m\u001b[0merrno_num\u001b[0m\u001b[0;34m)\u001b[0m\u001b[0;34m\u001b[0m\u001b[0;34m\u001b[0m\u001b[0m\n\u001b[0;32m-> 1821\u001b[0;31m                     \u001b[0;32mraise\u001b[0m \u001b[0mchild_exception_type\u001b[0m\u001b[0;34m(\u001b[0m\u001b[0merrno_num\u001b[0m\u001b[0;34m,\u001b[0m \u001b[0merr_msg\u001b[0m\u001b[0;34m,\u001b[0m \u001b[0merr_filename\u001b[0m\u001b[0;34m)\u001b[0m\u001b[0;34m\u001b[0m\u001b[0;34m\u001b[0m\u001b[0m\n\u001b[0m\u001b[1;32m   1822\u001b[0m                 \u001b[0;32mraise\u001b[0m \u001b[0mchild_exception_type\u001b[0m\u001b[0;34m(\u001b[0m\u001b[0merr_msg\u001b[0m\u001b[0;34m)\u001b[0m\u001b[0;34m\u001b[0m\u001b[0;34m\u001b[0m\u001b[0m\n",
      "\u001b[0;31mFileNotFoundError\u001b[0m: [Errno 2] No such file or directory: 'dot'",
      "\nThe above exception was the direct cause of the following exception:\n",
      "\u001b[0;31mExecutableNotFound\u001b[0m                        Traceback (most recent call last)",
      "\u001b[0;32m/opt/anaconda3/envs/Sci/lib/python3.9/site-packages/IPython/core/formatters.py\u001b[0m in \u001b[0;36m__call__\u001b[0;34m(self, obj)\u001b[0m\n\u001b[1;32m    343\u001b[0m             \u001b[0mmethod\u001b[0m \u001b[0;34m=\u001b[0m \u001b[0mget_real_method\u001b[0m\u001b[0;34m(\u001b[0m\u001b[0mobj\u001b[0m\u001b[0;34m,\u001b[0m \u001b[0mself\u001b[0m\u001b[0;34m.\u001b[0m\u001b[0mprint_method\u001b[0m\u001b[0;34m)\u001b[0m\u001b[0;34m\u001b[0m\u001b[0;34m\u001b[0m\u001b[0m\n\u001b[1;32m    344\u001b[0m             \u001b[0;32mif\u001b[0m \u001b[0mmethod\u001b[0m \u001b[0;32mis\u001b[0m \u001b[0;32mnot\u001b[0m \u001b[0;32mNone\u001b[0m\u001b[0;34m:\u001b[0m\u001b[0;34m\u001b[0m\u001b[0;34m\u001b[0m\u001b[0m\n\u001b[0;32m--> 345\u001b[0;31m                 \u001b[0;32mreturn\u001b[0m \u001b[0mmethod\u001b[0m\u001b[0;34m(\u001b[0m\u001b[0;34m)\u001b[0m\u001b[0;34m\u001b[0m\u001b[0;34m\u001b[0m\u001b[0m\n\u001b[0m\u001b[1;32m    346\u001b[0m             \u001b[0;32mreturn\u001b[0m \u001b[0;32mNone\u001b[0m\u001b[0;34m\u001b[0m\u001b[0;34m\u001b[0m\u001b[0m\n\u001b[1;32m    347\u001b[0m         \u001b[0;32melse\u001b[0m\u001b[0;34m:\u001b[0m\u001b[0;34m\u001b[0m\u001b[0;34m\u001b[0m\u001b[0m\n",
      "\u001b[0;32m/opt/anaconda3/envs/Sci/lib/python3.9/site-packages/graphviz/files.py\u001b[0m in \u001b[0;36m_repr_svg_\u001b[0;34m(self)\u001b[0m\n\u001b[1;32m    139\u001b[0m \u001b[0;34m\u001b[0m\u001b[0m\n\u001b[1;32m    140\u001b[0m     \u001b[0;32mdef\u001b[0m \u001b[0m_repr_svg_\u001b[0m\u001b[0;34m(\u001b[0m\u001b[0mself\u001b[0m\u001b[0;34m)\u001b[0m\u001b[0;34m:\u001b[0m\u001b[0;34m\u001b[0m\u001b[0;34m\u001b[0m\u001b[0m\n\u001b[0;32m--> 141\u001b[0;31m         \u001b[0;32mreturn\u001b[0m \u001b[0mself\u001b[0m\u001b[0;34m.\u001b[0m\u001b[0mpipe\u001b[0m\u001b[0;34m(\u001b[0m\u001b[0mformat\u001b[0m\u001b[0;34m=\u001b[0m\u001b[0;34m'svg'\u001b[0m\u001b[0;34m)\u001b[0m\u001b[0;34m.\u001b[0m\u001b[0mdecode\u001b[0m\u001b[0;34m(\u001b[0m\u001b[0mself\u001b[0m\u001b[0;34m.\u001b[0m\u001b[0m_encoding\u001b[0m\u001b[0;34m)\u001b[0m\u001b[0;34m\u001b[0m\u001b[0;34m\u001b[0m\u001b[0m\n\u001b[0m\u001b[1;32m    142\u001b[0m \u001b[0;34m\u001b[0m\u001b[0m\n\u001b[1;32m    143\u001b[0m     \u001b[0;32mdef\u001b[0m \u001b[0mpipe\u001b[0m\u001b[0;34m(\u001b[0m\u001b[0mself\u001b[0m\u001b[0;34m,\u001b[0m \u001b[0mformat\u001b[0m\u001b[0;34m=\u001b[0m\u001b[0;32mNone\u001b[0m\u001b[0;34m,\u001b[0m \u001b[0mrenderer\u001b[0m\u001b[0;34m=\u001b[0m\u001b[0;32mNone\u001b[0m\u001b[0;34m,\u001b[0m \u001b[0mformatter\u001b[0m\u001b[0;34m=\u001b[0m\u001b[0;32mNone\u001b[0m\u001b[0;34m,\u001b[0m \u001b[0mquiet\u001b[0m\u001b[0;34m=\u001b[0m\u001b[0;32mFalse\u001b[0m\u001b[0;34m)\u001b[0m\u001b[0;34m:\u001b[0m\u001b[0;34m\u001b[0m\u001b[0;34m\u001b[0m\u001b[0m\n",
      "\u001b[0;32m/opt/anaconda3/envs/Sci/lib/python3.9/site-packages/graphviz/files.py\u001b[0m in \u001b[0;36mpipe\u001b[0;34m(self, format, renderer, formatter, quiet)\u001b[0m\n\u001b[1;32m    164\u001b[0m         \u001b[0mdata\u001b[0m \u001b[0;34m=\u001b[0m \u001b[0mself\u001b[0m\u001b[0;34m.\u001b[0m\u001b[0msource\u001b[0m\u001b[0;34m.\u001b[0m\u001b[0mencode\u001b[0m\u001b[0;34m(\u001b[0m\u001b[0mself\u001b[0m\u001b[0;34m.\u001b[0m\u001b[0m_encoding\u001b[0m\u001b[0;34m)\u001b[0m\u001b[0;34m\u001b[0m\u001b[0;34m\u001b[0m\u001b[0m\n\u001b[1;32m    165\u001b[0m \u001b[0;34m\u001b[0m\u001b[0m\n\u001b[0;32m--> 166\u001b[0;31m         out = backend.pipe(self._engine, format, data,\n\u001b[0m\u001b[1;32m    167\u001b[0m                            \u001b[0mrenderer\u001b[0m\u001b[0;34m=\u001b[0m\u001b[0mrenderer\u001b[0m\u001b[0;34m,\u001b[0m \u001b[0mformatter\u001b[0m\u001b[0;34m=\u001b[0m\u001b[0mformatter\u001b[0m\u001b[0;34m,\u001b[0m\u001b[0;34m\u001b[0m\u001b[0;34m\u001b[0m\u001b[0m\n\u001b[1;32m    168\u001b[0m                            quiet=quiet)\n",
      "\u001b[0;32m/opt/anaconda3/envs/Sci/lib/python3.9/site-packages/graphviz/backend.py\u001b[0m in \u001b[0;36mpipe\u001b[0;34m(engine, format, data, renderer, formatter, quiet)\u001b[0m\n\u001b[1;32m    266\u001b[0m     \"\"\"\n\u001b[1;32m    267\u001b[0m     \u001b[0mcmd\u001b[0m\u001b[0;34m,\u001b[0m \u001b[0m_\u001b[0m \u001b[0;34m=\u001b[0m \u001b[0mcommand\u001b[0m\u001b[0;34m(\u001b[0m\u001b[0mengine\u001b[0m\u001b[0;34m,\u001b[0m \u001b[0mformat\u001b[0m\u001b[0;34m,\u001b[0m \u001b[0;32mNone\u001b[0m\u001b[0;34m,\u001b[0m \u001b[0mrenderer\u001b[0m\u001b[0;34m,\u001b[0m \u001b[0mformatter\u001b[0m\u001b[0;34m)\u001b[0m\u001b[0;34m\u001b[0m\u001b[0;34m\u001b[0m\u001b[0m\n\u001b[0;32m--> 268\u001b[0;31m     \u001b[0mout\u001b[0m\u001b[0;34m,\u001b[0m \u001b[0m_\u001b[0m \u001b[0;34m=\u001b[0m \u001b[0mrun\u001b[0m\u001b[0;34m(\u001b[0m\u001b[0mcmd\u001b[0m\u001b[0;34m,\u001b[0m \u001b[0minput\u001b[0m\u001b[0;34m=\u001b[0m\u001b[0mdata\u001b[0m\u001b[0;34m,\u001b[0m \u001b[0mcapture_output\u001b[0m\u001b[0;34m=\u001b[0m\u001b[0;32mTrue\u001b[0m\u001b[0;34m,\u001b[0m \u001b[0mcheck\u001b[0m\u001b[0;34m=\u001b[0m\u001b[0;32mTrue\u001b[0m\u001b[0;34m,\u001b[0m \u001b[0mquiet\u001b[0m\u001b[0;34m=\u001b[0m\u001b[0mquiet\u001b[0m\u001b[0;34m)\u001b[0m\u001b[0;34m\u001b[0m\u001b[0;34m\u001b[0m\u001b[0m\n\u001b[0m\u001b[1;32m    269\u001b[0m     \u001b[0;32mreturn\u001b[0m \u001b[0mout\u001b[0m\u001b[0;34m\u001b[0m\u001b[0;34m\u001b[0m\u001b[0m\n\u001b[1;32m    270\u001b[0m \u001b[0;34m\u001b[0m\u001b[0m\n",
      "\u001b[0;32m/opt/anaconda3/envs/Sci/lib/python3.9/site-packages/graphviz/backend.py\u001b[0m in \u001b[0;36mrun\u001b[0;34m(cmd, input, capture_output, check, encoding, quiet, **kwargs)\u001b[0m\n\u001b[1;32m    171\u001b[0m     \u001b[0;32mexcept\u001b[0m \u001b[0mOSError\u001b[0m \u001b[0;32mas\u001b[0m \u001b[0me\u001b[0m\u001b[0;34m:\u001b[0m\u001b[0;34m\u001b[0m\u001b[0;34m\u001b[0m\u001b[0m\n\u001b[1;32m    172\u001b[0m         \u001b[0;32mif\u001b[0m \u001b[0me\u001b[0m\u001b[0;34m.\u001b[0m\u001b[0merrno\u001b[0m \u001b[0;34m==\u001b[0m \u001b[0merrno\u001b[0m\u001b[0;34m.\u001b[0m\u001b[0mENOENT\u001b[0m\u001b[0;34m:\u001b[0m\u001b[0;34m\u001b[0m\u001b[0;34m\u001b[0m\u001b[0m\n\u001b[0;32m--> 173\u001b[0;31m             \u001b[0;32mraise\u001b[0m \u001b[0mExecutableNotFound\u001b[0m\u001b[0;34m(\u001b[0m\u001b[0mcmd\u001b[0m\u001b[0;34m)\u001b[0m \u001b[0;32mfrom\u001b[0m \u001b[0me\u001b[0m\u001b[0;34m\u001b[0m\u001b[0;34m\u001b[0m\u001b[0m\n\u001b[0m\u001b[1;32m    174\u001b[0m         \u001b[0;32melse\u001b[0m\u001b[0;34m:\u001b[0m\u001b[0;34m\u001b[0m\u001b[0;34m\u001b[0m\u001b[0m\n\u001b[1;32m    175\u001b[0m             \u001b[0;32mraise\u001b[0m\u001b[0;34m\u001b[0m\u001b[0;34m\u001b[0m\u001b[0m\n",
      "\u001b[0;31mExecutableNotFound\u001b[0m: failed to execute 'dot', make sure the Graphviz executables are on your systems' PATH"
     ]
    },
    {
     "data": {
      "text/plain": [
       "<graphviz.files.Source at 0x7fb667d81a90>"
      ]
     },
     "execution_count": 17,
     "metadata": {},
     "output_type": "execute_result"
    }
   ],
   "source": [
    "graphviz.Source(delivery_tree_graph)"
   ]
  },
  {
   "cell_type": "markdown",
   "metadata": {
    "id": "3IPqosiQu52z"
   },
   "source": [
    "\n",
    "### Obrigado por concluir o SUPER CASE!\n",
    "\n",
    "## Autor\n",
    "\n",
    "<a href=\"https://www.linkedin.com/in/eduardopecora/\" target=\"_blank\">Eduardo Pecora</a>\n",
    "\n",
    "## Log de modificações\n",
    "\n",
    "| Data | Versão | Modificado por | Descrição |\n",
    "| ----------------- | ------- | ---------- | ---------------------------------- |\n",
    "| 04-04-2021       | 1.0     | Eduardo Pecora    | Documentação               |\n",
    "\n",
    "<hr>\n",
    "\n",
    "## <h3 align=\"center\"> (c) INSTA/ UFPR 2021. All rights reserved. <h3/>\n",
    "\n"
   ]
  }
 ],
 "metadata": {
  "colab": {
   "collapsed_sections": [],
   "name": "SuperCase_01-2.ipynb",
   "provenance": [],
   "toc_visible": true
  },
  "kernelspec": {
   "display_name": "Python 3 (ipykernel)",
   "language": "python",
   "name": "python3"
  },
  "language_info": {
   "codemirror_mode": {
    "name": "ipython",
    "version": 3
   },
   "file_extension": ".py",
   "mimetype": "text/x-python",
   "name": "python",
   "nbconvert_exporter": "python",
   "pygments_lexer": "ipython3",
   "version": "3.9.7"
  }
 },
 "nbformat": 4,
 "nbformat_minor": 4
}
