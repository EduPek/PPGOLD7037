{
 "cells": [
  {
   "cell_type": "markdown",
   "metadata": {
    "id": "kf5t4e_0dIhp"
   },
   "source": [
    "\n",
    "<left>\n",
    "    <img src=\"http://epecora.com.br/DataFiles/PPGOLD_logo.png\" width=\"300\" alt=\"PPGOLD Data Science: INTRO\"  />\n",
    "</left>\n",
    "\n",
    "# *Aula 07 - Data Science - PPGOLD*\n",
    "\n",
    "\n",
    "---\n",
    "\n",
    "## Classificação supervisionada\n",
    "## Árvores de classificação\n",
    "## Random Forests\n",
    "## Case de distribuição de e-commerce\n",
    "\n"
   ]
  },
  {
   "cell_type": "markdown",
   "metadata": {
    "id": "G1w1UAvzCjle"
   },
   "source": [
    "# DS07_1_tree\n",
    "\n"
   ]
  },
  {
   "cell_type": "code",
   "execution_count": 14,
   "metadata": {
    "button": false,
    "colab": {
     "base_uri": "https://localhost:8080/"
    },
    "id": "v16i9xgdlGwH",
    "new_sheet": false,
    "outputId": "d589bec0-ceaa-46c6-bf73-5a7b5d4bf08d",
    "run_control": {
     "read_only": false
    }
   },
   "outputs": [
    {
     "name": "stdout",
     "output_type": "stream",
     "text": [
      "Python 3.9.7\r\n"
     ]
    }
   ],
   "source": [
    "# check Python version\n",
    "!python -V\n",
    "\n",
    "import pandas as pd # download library to read data into dataframe\n",
    "import numpy as np # import numpy library\n",
    "import matplotlib.pyplot as plt # plots\n",
    "import collections\n",
    "import random # library for random number generation\n",
    "\n",
    "import matplotlib.pyplot as plt\n",
    "import seaborn as sns\n",
    "%matplotlib inline\n",
    "\n",
    "\n",
    "file_path = \"https://raw.githubusercontent.com/EduPek/PPGOLD7037/main/Data/Distribution_12k.csv\"\n",
    "starsData = pd.read_csv(file_path)\n",
    "\n",
    "# fix name of the column displaying the Stars\n",
    "column_names = starsData.columns.values\n",
    "column_names[0] = \"stars\"\n",
    "starsData.columns = column_names\n",
    "\n",
    "starsData = starsData[starsData[\"stars\"] <= 5]\n",
    "starsData = starsData[starsData[\"stars\"] >= 1]\n",
    "\n",
    "starsData = starsData[starsData[\"FloorCD\"] <= 4] # aproveitei e padronizei outros dados numéricos também\n",
    "starsData = starsData[starsData[\"FloorCD\"] >= 0]\n",
    "\n",
    "starsData = starsData[starsData[\"RoutDeliveryOrder\"] <= 6]\n",
    "starsData = starsData[starsData[\"RoutDeliveryOrder\"] >= 1]\n",
    "\n",
    "starsData = starsData.reset_index(drop=True) # É importante refazer o indice do dataFrame, apeos excluir linhas, pois pode gerar problema no SciKit Learn\n",
    "\n",
    "\n",
    "# import decision trees scikit-learn libraries\n",
    "%matplotlib inline\n",
    "from sklearn import tree\n",
    "from sklearn.metrics import accuracy_score, confusion_matrix # Não usaremos essas métricas neste exemplo\n",
    "import matplotlib.pyplot as plt\n",
    "\n",
    "#!conda install python-graphviz --yes\n",
    "import graphviz\n",
    "from sklearn.tree import export_graphviz\n",
    "import itertools\n",
    "\n",
    "\n",
    "# variáveis Dependentes e independentes the DataFrame\n",
    "stars = starsData[\"stars\"] # Só a coluna \"stars\"\n",
    "stars_class = stars[:]\n",
    "variables = starsData.iloc[:,1:] # Todas as outras colunas com excessão da \"stars\"\n",
    "\n",
    "\n",
    "from sklearn.preprocessing import OneHotEncoder\n",
    "\n",
    "enc = OneHotEncoder(handle_unknown='ignore', sparse= False)\n",
    "\n",
    "prod_encoded = pd.DataFrame (enc.fit_transform(variables[['Product']])).astype(int)\n",
    "prod_encoded.columns = enc.get_feature_names_out(['Product'])\n",
    "\n",
    "origin_encoded = pd.DataFrame (enc.fit_transform(variables[['Origin']])).astype(int)\n",
    "origin_encoded.columns = enc.get_feature_names_out(['Origin'])\n",
    "\n",
    "CD_encoded = pd.DataFrame (enc.fit_transform(variables[['CD_name']])).astype(int)\n",
    "CD_encoded.columns = enc.get_feature_names_out(['CD_name'])\n",
    "\n",
    "Destination_encoded = pd.DataFrame (enc.fit_transform(variables[['Dest']])).astype(int)\n",
    "Destination_encoded.columns = enc.get_feature_names_out(['Dest'])\n",
    "\n",
    "TruckType_encoded = pd.DataFrame (enc.fit_transform(variables[['TruckType']])).astype(int)\n",
    "TruckType_encoded.columns = enc.get_feature_names_out(['TruckType'])\n",
    "\n",
    "TruckType2_encoded = pd.DataFrame (enc.fit_transform(variables[['TruckType2']])).astype(int)\n",
    "TruckType2_encoded.columns = enc.get_feature_names_out(['TruckType2'])\n",
    "\n",
    "DriverCD_C_encoded = pd.DataFrame (enc.fit_transform(variables[['DriverCD_C']])).astype(int)\n",
    "DriverCD_C_encoded.columns = enc.get_feature_names_out(['DriverCD_C'])\n",
    "\n",
    "var1 = pd.concat([prod_encoded, origin_encoded, CD_encoded, Destination_encoded, TruckType_encoded, TruckType2_encoded, DriverCD_C_encoded, variables[\"RoutDeliveryOrder\"], variables[\"FloorCD\"]], axis=1)\n",
    "\n",
    "stars_class.loc[stars <= 2] = \"bad\"\n",
    "stars_class.loc[stars == 3] = \"average\"\n",
    "stars_class.loc[stars >= 4] = \"good\""
   ]
  },
  {
   "cell_type": "markdown",
   "metadata": {
    "id": "5oBeTSQbmnjh"
   },
   "source": [
    "# Separar os dados em Train e Test data\n",
    "\n"
   ]
  },
  {
   "cell_type": "code",
   "execution_count": 15,
   "metadata": {
    "id": "9bZkoeDQmrob"
   },
   "outputs": [],
   "source": [
    "from sklearn.model_selection import train_test_split # Import train_test_split function\n",
    "\n",
    "X_train, X_test, y_train, y_test = train_test_split(var1, stars_class, test_size=0.3) # 70% training and 30% test\n"
   ]
  },
  {
   "cell_type": "markdown",
   "metadata": {
    "id": "70n66AuFdO-7"
   },
   "source": [
    "## Modelo de classificação em árvores - Critério Gini"
   ]
  },
  {
   "cell_type": "code",
   "execution_count": 16,
   "metadata": {
    "colab": {
     "base_uri": "https://localhost:8080/"
    },
    "id": "SqGXSP0R_ku6",
    "outputId": "7bf74e82-e954-457f-c39a-0df52cadadd8"
   },
   "outputs": [
    {
     "name": "stdout",
     "output_type": "stream",
     "text": [
      "Accuracy: 0.8762550881953867\n"
     ]
    }
   ],
   "source": [
    "delivery_tree = tree.DecisionTreeClassifier(criterion=\"gini\", max_depth = 25)\n",
    "#delivery_tree = tree.DecisionTreeClassifier(criterion=\"gini\", max_depth = 25, min_samples_split = 2, min_samples_leaf = 1)\n",
    "\n",
    "delivery_tree.fit(X_train, y_train)\n",
    "\n",
    "y_pred = delivery_tree.predict(X_test)\n",
    "print(\"Accuracy:\", accuracy_score(y_test, y_pred))"
   ]
  },
  {
   "cell_type": "code",
   "execution_count": 17,
   "metadata": {
    "colab": {
     "base_uri": "https://localhost:8080/"
    },
    "id": "U0MadNtranpU",
    "outputId": "26f06d28-2e6e-498c-8850-8ee65865f96f"
   },
   "outputs": [
    {
     "name": "stdout",
     "output_type": "stream",
     "text": [
      "FloorCD                         0.124492\n",
      "RoutDeliveryOrder               0.106307\n",
      "Origin_F2                       0.033086\n",
      "TruckType2_CityDeliveryTruck    0.031927\n",
      "Origin_F3                       0.027558\n",
      "Origin_F4                       0.024415\n",
      "TruckType2_MiniVan              0.024035\n",
      "dtype: float64\n"
     ]
    }
   ],
   "source": [
    "# Importância de cada feature\n",
    "featureImp = pd.Series(delivery_tree.feature_importances_,index = X_train.columns).sort_values(ascending=False)\n",
    "\n",
    "# Selecionar as mais importantes para mostrar\n",
    "featureImp = featureImp[featureImp > 0.02]\n",
    "print(featureImp)"
   ]
  },
  {
   "cell_type": "markdown",
   "metadata": {
    "id": "9t1i_y3LdZMB"
   },
   "source": [
    "## Modelo de classificação em árvores - Critério Entropia\n",
    "\n",
    "para maiores detalhes da diferença entre o Gini e a Entropia ver [4]"
   ]
  },
  {
   "cell_type": "code",
   "execution_count": 18,
   "metadata": {
    "colab": {
     "base_uri": "https://localhost:8080/"
    },
    "id": "VZ0bLulJoV2v",
    "outputId": "dfdf1270-b573-48f1-f6fe-5cc79a595a87"
   },
   "outputs": [
    {
     "name": "stdout",
     "output_type": "stream",
     "text": [
      "Accuracy: 0.8751696065128901\n"
     ]
    }
   ],
   "source": [
    "delivery_tree_entropy = tree.DecisionTreeClassifier(criterion=\"entropy\", max_depth = 25)\n",
    "delivery_tree_entropy.fit(X_train, y_train)\n",
    "\n",
    "y_pred_entr = delivery_tree_entropy.predict(X_test)\n",
    "print(\"Accuracy:\", accuracy_score(y_test, y_pred_entr))"
   ]
  },
  {
   "cell_type": "code",
   "execution_count": 19,
   "metadata": {
    "colab": {
     "base_uri": "https://localhost:8080/"
    },
    "id": "ZT7X3OSZbGHO",
    "outputId": "c73d4dec-6525-43bf-92d7-980f250611d3"
   },
   "outputs": [
    {
     "name": "stdout",
     "output_type": "stream",
     "text": [
      "RoutDeliveryOrder               0.117233\n",
      "FloorCD                         0.110004\n",
      "Origin_F3                       0.035936\n",
      "Origin_F2                       0.028750\n",
      "Origin_F1                       0.027174\n",
      "TruckType2_CityDeliveryTruck    0.026915\n",
      "Origin_F4                       0.026684\n",
      "TruckType2_Van                  0.025962\n",
      "TruckType2_MiniVan              0.025639\n",
      "dtype: float64\n"
     ]
    }
   ],
   "source": [
    "# Importância de cada feature\n",
    "featureImp = pd.Series(delivery_tree_entropy.feature_importances_,index = X_train.columns).sort_values(ascending=False)\n",
    "\n",
    "# Selecionar as mais importantes para mostrar\n",
    "featureImp = featureImp[featureImp > 0.02]\n",
    "print(featureImp)"
   ]
  },
  {
   "cell_type": "markdown",
   "metadata": {
    "id": "3laKJ_ajd4JW"
   },
   "source": [
    "## Validando o modelo - Matriz de confusão"
   ]
  },
  {
   "cell_type": "code",
   "execution_count": 20,
   "metadata": {
    "colab": {
     "base_uri": "https://localhost:8080/",
     "height": 347
    },
    "id": "6lHv4m7wsAkz",
    "outputId": "dcdcab3c-c197-4565-88b8-6a4190294c34"
   },
   "outputs": [
    {
     "name": "stdout",
     "output_type": "stream",
     "text": [
      "[[ 709   99   60]\n",
      " [  27 1263   80]\n",
      " [  41  153 1253]]\n"
     ]
    },
    {
     "data": {
      "text/plain": [
       "Text(0.5, 15.0, 'Predicted label')"
      ]
     },
     "execution_count": 20,
     "metadata": {},
     "output_type": "execute_result"
    },
    {
     "data": {
      "image/png": "[encoded data removed]",
      "text/plain": [
       "<Figure size 432x288 with 2 Axes>"
      ]
     },
     "metadata": {
      "needs_background": "light"
     },
     "output_type": "display_data"
    }
   ],
   "source": [
    "from sklearn.metrics import confusion_matrix\n",
    "\n",
    "cf_Matrix = confusion_matrix(y_test, y_pred_entr)\n",
    "\n",
    "print(cf_Matrix)\n",
    "\n",
    "import seaborn as sns\n",
    "sns.heatmap(cf_Matrix, annot=True, xticklabels = [\"Average\",\"Bad\",\"Good\"], yticklabels = [\"Average\",\"Bad\",\"Good\"])\n",
    "plt.ylabel('True label')\n",
    "plt.xlabel('Predicted label')\n"
   ]
  },
  {
   "cell_type": "markdown",
   "metadata": {
    "id": "_bhUH78ad8wM"
   },
   "source": [
    "## Grid Search - Melhores parâmetros"
   ]
  },
  {
   "cell_type": "code",
   "execution_count": 21,
   "metadata": {
    "colab": {
     "base_uri": "https://localhost:8080/"
    },
    "id": "BJLvYWoY6pOB",
    "outputId": "0c69794b-44a4-4f99-eb74-fc31ede05fc4"
   },
   "outputs": [
    {
     "data": {
      "text/plain": [
       "GridSearchCV(cv=5, estimator=DecisionTreeClassifier(random_state=100),\n",
       "             param_grid={'criterion': ['gini', 'entropy'],\n",
       "                         'max_depth': [3, 10, 15, 20, 30, 60, 65, 70, 80, 100,\n",
       "                                       200, 500]})"
      ]
     },
     "execution_count": 21,
     "metadata": {},
     "output_type": "execute_result"
    }
   ],
   "source": [
    "from sklearn.model_selection import GridSearchCV\n",
    "\n",
    "X, Y = X_train, y_train\n",
    "tree_param = {'criterion':['gini','entropy'],'max_depth':[3,10,15,20,30,60,65,70,80,100,200,500]}\n",
    "grid = GridSearchCV(tree.DecisionTreeClassifier(random_state= 100), tree_param, cv=5)\n",
    "grid.fit(X, Y)"
   ]
  },
  {
   "cell_type": "code",
   "execution_count": 22,
   "metadata": {
    "colab": {
     "base_uri": "https://localhost:8080/"
    },
    "id": "WI6JVkD283Ep",
    "outputId": "55652553-193b-48f9-e6d7-f2a516b4cbc4"
   },
   "outputs": [
    {
     "name": "stdout",
     "output_type": "stream",
     "text": [
      "The parameters combination that would give best accuracy are: \n",
      "{'criterion': 'entropy', 'max_depth': 60}\n",
      "The best accuracy achieved:  0.9348529431659834\n",
      "entropy\n"
     ]
    }
   ],
   "source": [
    "print('The parameters combination that would give best accuracy are: ')\n",
    "print(grid.best_params_)\n",
    "print('The best accuracy achieved: ', grid.best_score_)\n",
    "\n",
    "print(grid.best_params_['criterion'])"
   ]
  },
  {
   "cell_type": "code",
   "execution_count": 23,
   "metadata": {
    "colab": {
     "base_uri": "https://localhost:8080/"
    },
    "id": "1KptI9gqA55m",
    "outputId": "b241e406-0642-46c8-896a-1ffcc510f02b"
   },
   "outputs": [
    {
     "name": "stdout",
     "output_type": "stream",
     "text": [
      "Accuracy: 0.9755766621438263\n"
     ]
    }
   ],
   "source": [
    "delivery_tree_best = tree.DecisionTreeClassifier(criterion = grid.best_params_[\"criterion\"], max_depth = grid.best_params_[\"max_depth\"])\n",
    "delivery_tree_best.fit(X_train, y_train)\n",
    "\n",
    "y_pred = delivery_tree_best.predict(X_test)\n",
    "print(\"Accuracy:\", accuracy_score(y_test, y_pred))"
   ]
  },
  {
   "cell_type": "code",
   "execution_count": 24,
   "metadata": {
    "colab": {
     "base_uri": "https://localhost:8080/",
     "height": 348
    },
    "id": "xFArXqzRBg-g",
    "outputId": "f302178f-1b0a-434f-f82e-c5710efc6149"
   },
   "outputs": [
    {
     "name": "stdout",
     "output_type": "stream",
     "text": [
      "[[ 851    6   11]\n",
      " [  15 1342   13]\n",
      " [  27   18 1402]]\n"
     ]
    },
    {
     "data": {
      "text/plain": [
       "Text(0.5, 15.0, 'Predicted label')"
      ]
     },
     "execution_count": 24,
     "metadata": {},
     "output_type": "execute_result"
    },
    {
     "data": {
      "image/png": "[encoded data removed]",
      "text/plain": [
       "<Figure size 432x288 with 2 Axes>"
      ]
     },
     "metadata": {
      "needs_background": "light"
     },
     "output_type": "display_data"
    }
   ],
   "source": [
    "cf_Matrix = confusion_matrix(y_test, y_pred)\n",
    "\n",
    "print(cf_Matrix)\n",
    "\n",
    "import seaborn as sns\n",
    "sns.heatmap(cf_Matrix, annot=True, xticklabels = [\"Average\",\"Bad\",\"Good\"], yticklabels = [\"Average\",\"Bad\",\"Good\"])\n",
    "plt.ylabel('True label')\n",
    "plt.xlabel('Predicted label')\n"
   ]
  },
  {
   "cell_type": "markdown",
   "metadata": {
    "id": "N5DA9PY5eF10"
   },
   "source": [
    "# Random Forests"
   ]
  },
  {
   "cell_type": "code",
   "execution_count": 25,
   "metadata": {
    "colab": {
     "base_uri": "https://localhost:8080/",
     "height": 367
    },
    "id": "GSE0XrtJYxxs",
    "outputId": "44513a80-accf-4c07-c7b3-2a70963e318b"
   },
   "outputs": [
    {
     "name": "stdout",
     "output_type": "stream",
     "text": [
      "Accuracy: 0.9628222523744911\n",
      "[[ 797   36   16]\n",
      " [   6 1351   43]\n",
      " [  10   26 1400]]\n"
     ]
    },
    {
     "data": {
      "text/plain": [
       "Text(0.5, 15.0, 'Predicted label')"
      ]
     },
     "execution_count": 25,
     "metadata": {},
     "output_type": "execute_result"
    },
    {
     "data": {
      "image/png": "[encoded data removed]",
      "text/plain": [
       "<Figure size 432x288 with 2 Axes>"
      ]
     },
     "metadata": {
      "needs_background": "light"
     },
     "output_type": "display_data"
    }
   ],
   "source": [
    "from sklearn.ensemble import RandomForestClassifier\n",
    "\n",
    "X_train, X_test, y_train, y_test = train_test_split(var1, stars_class, test_size=0.3) # 70% training and 30% test\n",
    "\n",
    "rfc = RandomForestClassifier(n_estimators=1000, criterion=grid.best_params_['criterion'], max_depth=grid.best_params_['max_depth'])\n",
    "rfc.fit(X_train,y_train)\n",
    "y_pred=rfc.predict(X_test)\n",
    "\n",
    "print(\"Accuracy:\",accuracy_score(y_test, y_pred))\n",
    "\n",
    "cf_Matrix = confusion_matrix(y_test, y_pred)\n",
    "\n",
    "print(cf_Matrix)\n",
    "\n",
    "sns.heatmap(cf_Matrix, annot=True, xticklabels = [\"Average\",\"Bad\",\"Good\"], yticklabels = [\"Average\",\"Bad\",\"Good\"])\n",
    "plt.ylabel('True label')\n",
    "plt.xlabel('Predicted label')\n"
   ]
  },
  {
   "cell_type": "code",
   "execution_count": 26,
   "metadata": {
    "colab": {
     "base_uri": "https://localhost:8080/",
     "height": 516
    },
    "id": "lV_Qf1JvZKt_",
    "outputId": "7b8528cd-664a-485f-cd79-f7aa686781ac"
   },
   "outputs": [
    {
     "name": "stderr",
     "output_type": "stream",
     "text": [
      "No artists with labels found to put in legend.  Note that artists whose label start with an underscore are ignored when legend() is called with no argument.\n"
     ]
    },
    {
     "name": "stdout",
     "output_type": "stream",
     "text": [
      "RoutDeliveryOrder               0.103799\n",
      "FloorCD                         0.089384\n",
      "TruckType2_Van                  0.031678\n",
      "TruckType2_CityDeliveryTruck    0.029374\n",
      "Origin_F2                       0.027283\n",
      "Origin_F3                       0.026978\n",
      "Origin_F4                       0.026656\n",
      "Origin_F1                       0.025191\n",
      "TruckType2_MiniVan              0.023627\n",
      "dtype: float64\n"
     ]
    },
    {
     "data": {
      "image/png": "[encoded data removed]",
      "text/plain": [
       "<Figure size 432x288 with 1 Axes>"
      ]
     },
     "metadata": {
      "needs_background": "light"
     },
     "output_type": "display_data"
    }
   ],
   "source": [
    "# Importância de cada feature\n",
    "featureImp = pd.Series(rfc.feature_importances_,index = X_train.columns).sort_values(ascending=False)\n",
    "\n",
    "# Selecionar as mais importantes para mostrar\n",
    "featureImp = featureImp[featureImp > 0.02]\n",
    "print(featureImp)\n",
    "\n",
    "# Bar plot\n",
    "sns.barplot(x=featureImp, y=featureImp.index)\n",
    "plt.xlabel('Features Importance Score')\n",
    "plt.ylabel('Features')\n",
    "plt.title(\"Most Important Features\")\n",
    "plt.legend()\n",
    "plt.show()\n"
   ]
  },
  {
   "cell_type": "markdown",
   "metadata": {
    "id": "3IPqosiQu52z"
   },
   "source": [
    "## Bibliografia\n",
    "\n",
    "[1] https://scikit-learn.org/stable/modules/generated/sklearn.model_selection.GridSearchCV.html\n",
    "\n",
    "[2] https://scikit-learn.org/stable/modules/cross_validation.html\n",
    "\n",
    "[3] https://scikit-learn.org/stable/modules/generated/sklearn.tree.DecisionTreeClassifier.html\n",
    "\n",
    "[4] https://www.unine.ch/files/live/sites/imi/files/shared/documents/papers/Gini_index_fulltext.pdf\n",
    "\n",
    "[5] https://scikit-learn.org/stable/modules/generated/sklearn.ensemble.RandomForestClassifier.html\n",
    "\n",
    "## Autor\n",
    "\n",
    "<a href=\"https://www.linkedin.com/in/eduardopecora/\" target=\"_blank\">Eduardo Pecora</a>\n",
    "\n",
    "## Log de modificações\n",
    "\n",
    "| Data | Versão | Modificado por | Descrição |\n",
    "| ----------------- | ------- | ---------- | ---------------------------------- |\n",
    "| 03-10-2021       | 1.0     | Eduardo Pecora    | Criação               |\n",
    "\n",
    "<hr>\n",
    "\n"
   ]
  }
 ],
 "metadata": {
  "colab": {
   "collapsed_sections": [
    "G1w1UAvzCjle"
   ],
   "name": "DS07_2_Tree.ipynb",
   "provenance": []
  },
  "kernelspec": {
   "display_name": "Python 3 (ipykernel)",
   "language": "python",
   "name": "python3"
  },
  "language_info": {
   "codemirror_mode": {
    "name": "ipython",
    "version": 3
   },
   "file_extension": ".py",
   "mimetype": "text/x-python",
   "name": "python",
   "nbconvert_exporter": "python",
   "pygments_lexer": "ipython3",
   "version": "3.7.7"
  }
 },
 "nbformat": 4,
 "nbformat_minor": 1
}
