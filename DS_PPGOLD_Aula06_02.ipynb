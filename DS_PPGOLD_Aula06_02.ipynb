{
 "cells": [
  {
   "cell_type": "markdown",
   "metadata": {
    "id": "kf5t4e_0dIhp"
   },
   "source": [
    "\n",
    "<left>\n",
    "    <img src=\"http://epecora.com.br/DataFiles/PPGOLD_logo.png\" width=\"300\" alt=\"PPGOLD Data Science: INTRO\"  />\n",
    "</left>\n",
    "\n",
    "# *Data Science - Intro*\n",
    "\n",
    "\n",
    "---\n",
    "\n",
    "\n",
    "\n",
    "\n",
    "Estimando o preço de venda de um carro"
   ]
  },
  {
   "cell_type": "markdown",
   "metadata": {
    "id": "f5a3UOE0Mve8"
   },
   "source": [
    "# Aula 05_2 - Desenvolvimento do Modelo Polinomial\n",
    "\n",
    "Tempo estimado: **60** minutos\n",
    "\n",
    "## Objetivos\n",
    "\n",
    "Após completar este AULA, você será capaz de:\n",
    "\n",
    "* Criar um modelo poinomial para a previsão\n",
    "* Fazer a previsão dos seus dados\n"
   ]
  },
  {
   "cell_type": "code",
   "execution_count": 1,
   "metadata": {
    "colab": {
     "base_uri": "https://localhost:8080/",
     "height": 258
    },
    "id": "n-MpFc1akxw0",
    "outputId": "1ffa4b37-5ec6-4cd3-e920-45e320e3b4c7"
   },
   "outputs": [
    {
     "data": {
      "text/html": [
       "<div>\n",
       "<style scoped>\n",
       "    .dataframe tbody tr th:only-of-type {\n",
       "        vertical-align: middle;\n",
       "    }\n",
       "\n",
       "    .dataframe tbody tr th {\n",
       "        vertical-align: top;\n",
       "    }\n",
       "\n",
       "    .dataframe thead th {\n",
       "        text-align: right;\n",
       "    }\n",
       "</style>\n",
       "<table border=\"1\" class=\"dataframe\">\n",
       "  <thead>\n",
       "    <tr style=\"text-align: right;\">\n",
       "      <th></th>\n",
       "      <th>symboling</th>\n",
       "      <th>normalized-losses</th>\n",
       "      <th>wheel-base</th>\n",
       "      <th>length</th>\n",
       "      <th>width</th>\n",
       "      <th>height</th>\n",
       "      <th>curb-weight</th>\n",
       "      <th>engine-size</th>\n",
       "      <th>bore</th>\n",
       "      <th>stroke</th>\n",
       "      <th>...</th>\n",
       "      <th>twelve</th>\n",
       "      <th>two.1</th>\n",
       "      <th>1bbl</th>\n",
       "      <th>2bbl</th>\n",
       "      <th>4bbl</th>\n",
       "      <th>idi</th>\n",
       "      <th>mfi</th>\n",
       "      <th>mpfi</th>\n",
       "      <th>spdi</th>\n",
       "      <th>spfi</th>\n",
       "    </tr>\n",
       "  </thead>\n",
       "  <tbody>\n",
       "    <tr>\n",
       "      <th>0</th>\n",
       "      <td>3</td>\n",
       "      <td>122.0</td>\n",
       "      <td>88.6</td>\n",
       "      <td>168.8</td>\n",
       "      <td>64.1</td>\n",
       "      <td>48.8</td>\n",
       "      <td>2548</td>\n",
       "      <td>130</td>\n",
       "      <td>3.47</td>\n",
       "      <td>2.68</td>\n",
       "      <td>...</td>\n",
       "      <td>0</td>\n",
       "      <td>0</td>\n",
       "      <td>0</td>\n",
       "      <td>0</td>\n",
       "      <td>0</td>\n",
       "      <td>0</td>\n",
       "      <td>0</td>\n",
       "      <td>1</td>\n",
       "      <td>0</td>\n",
       "      <td>0</td>\n",
       "    </tr>\n",
       "    <tr>\n",
       "      <th>1</th>\n",
       "      <td>3</td>\n",
       "      <td>122.0</td>\n",
       "      <td>88.6</td>\n",
       "      <td>168.8</td>\n",
       "      <td>64.1</td>\n",
       "      <td>48.8</td>\n",
       "      <td>2548</td>\n",
       "      <td>130</td>\n",
       "      <td>3.47</td>\n",
       "      <td>2.68</td>\n",
       "      <td>...</td>\n",
       "      <td>0</td>\n",
       "      <td>0</td>\n",
       "      <td>0</td>\n",
       "      <td>0</td>\n",
       "      <td>0</td>\n",
       "      <td>0</td>\n",
       "      <td>0</td>\n",
       "      <td>1</td>\n",
       "      <td>0</td>\n",
       "      <td>0</td>\n",
       "    </tr>\n",
       "    <tr>\n",
       "      <th>2</th>\n",
       "      <td>1</td>\n",
       "      <td>122.0</td>\n",
       "      <td>94.5</td>\n",
       "      <td>171.2</td>\n",
       "      <td>65.5</td>\n",
       "      <td>52.4</td>\n",
       "      <td>2823</td>\n",
       "      <td>152</td>\n",
       "      <td>2.68</td>\n",
       "      <td>3.47</td>\n",
       "      <td>...</td>\n",
       "      <td>0</td>\n",
       "      <td>0</td>\n",
       "      <td>0</td>\n",
       "      <td>0</td>\n",
       "      <td>0</td>\n",
       "      <td>0</td>\n",
       "      <td>0</td>\n",
       "      <td>1</td>\n",
       "      <td>0</td>\n",
       "      <td>0</td>\n",
       "    </tr>\n",
       "    <tr>\n",
       "      <th>3</th>\n",
       "      <td>2</td>\n",
       "      <td>164.0</td>\n",
       "      <td>99.8</td>\n",
       "      <td>176.6</td>\n",
       "      <td>66.2</td>\n",
       "      <td>54.3</td>\n",
       "      <td>2337</td>\n",
       "      <td>109</td>\n",
       "      <td>3.19</td>\n",
       "      <td>3.40</td>\n",
       "      <td>...</td>\n",
       "      <td>0</td>\n",
       "      <td>0</td>\n",
       "      <td>0</td>\n",
       "      <td>0</td>\n",
       "      <td>0</td>\n",
       "      <td>0</td>\n",
       "      <td>0</td>\n",
       "      <td>1</td>\n",
       "      <td>0</td>\n",
       "      <td>0</td>\n",
       "    </tr>\n",
       "    <tr>\n",
       "      <th>4</th>\n",
       "      <td>2</td>\n",
       "      <td>164.0</td>\n",
       "      <td>99.4</td>\n",
       "      <td>176.6</td>\n",
       "      <td>66.4</td>\n",
       "      <td>54.3</td>\n",
       "      <td>2824</td>\n",
       "      <td>136</td>\n",
       "      <td>3.19</td>\n",
       "      <td>3.40</td>\n",
       "      <td>...</td>\n",
       "      <td>0</td>\n",
       "      <td>0</td>\n",
       "      <td>0</td>\n",
       "      <td>0</td>\n",
       "      <td>0</td>\n",
       "      <td>0</td>\n",
       "      <td>0</td>\n",
       "      <td>1</td>\n",
       "      <td>0</td>\n",
       "      <td>0</td>\n",
       "    </tr>\n",
       "  </tbody>\n",
       "</table>\n",
       "<p>5 rows × 75 columns</p>\n",
       "</div>"
      ],
      "text/plain": [
       "   symboling  normalized-losses  wheel-base  length  width  height  \\\n",
       "0          3              122.0        88.6   168.8   64.1    48.8   \n",
       "1          3              122.0        88.6   168.8   64.1    48.8   \n",
       "2          1              122.0        94.5   171.2   65.5    52.4   \n",
       "3          2              164.0        99.8   176.6   66.2    54.3   \n",
       "4          2              164.0        99.4   176.6   66.4    54.3   \n",
       "\n",
       "   curb-weight  engine-size  bore  stroke  ...  twelve  two.1  1bbl  2bbl  \\\n",
       "0         2548          130  3.47    2.68  ...       0      0     0     0   \n",
       "1         2548          130  3.47    2.68  ...       0      0     0     0   \n",
       "2         2823          152  2.68    3.47  ...       0      0     0     0   \n",
       "3         2337          109  3.19    3.40  ...       0      0     0     0   \n",
       "4         2824          136  3.19    3.40  ...       0      0     0     0   \n",
       "\n",
       "   4bbl  idi  mfi  mpfi  spdi  spfi  \n",
       "0     0    0    0     1     0     0  \n",
       "1     0    0    0     1     0     0  \n",
       "2     0    0    0     1     0     0  \n",
       "3     0    0    0     1     0     0  \n",
       "4     0    0    0     1     0     0  \n",
       "\n",
       "[5 rows x 75 columns]"
      ]
     },
     "execution_count": 1,
     "metadata": {},
     "output_type": "execute_result"
    }
   ],
   "source": [
    "# import libraries\n",
    "import pandas as pd  # Biblioteca para os DataFrames \n",
    "import numpy as np   # Biblioteca Numérica\n",
    "import math \n",
    "import matplotlib.pyplot as plt\n",
    "import seaborn as sns # import the visualization package: seaborn\n",
    "from sklearn.linear_model import LinearRegression\n",
    "from sklearn.metrics import mean_squared_error\n",
    "from sklearn.metrics import r2_score\n",
    "\n",
    "# Ler o arquivo online pela URL fornecida acima, e atribua-o à variável \"df\".\n",
    "my_file = \"Auto_pronto.csv\" #Cópia de segurança ;)\n",
    "\n",
    "# Atribuir o arquivo a uma váriável DataFrame\n",
    "df = pd.read_csv(my_file)\n",
    "\n",
    "df.head()"
   ]
  },
  {
   "cell_type": "code",
   "execution_count": 2,
   "metadata": {
    "colab": {
     "base_uri": "https://localhost:8080/"
    },
    "id": "jF0nJsqOlR31",
    "outputId": "609910e3-6c82-4a9a-9a21-7ed53bb3de2a"
   },
   "outputs": [
    {
     "name": "stdout",
     "output_type": "stream",
     "text": [
      "<class 'pandas.core.frame.DataFrame'>\n",
      "RangeIndex: 201 entries, 0 to 200\n",
      "Data columns (total 75 columns):\n",
      " #   Column             Non-Null Count  Dtype  \n",
      "---  ------             --------------  -----  \n",
      " 0   symboling          201 non-null    int64  \n",
      " 1   normalized-losses  201 non-null    float64\n",
      " 2   wheel-base         201 non-null    float64\n",
      " 3   length             201 non-null    float64\n",
      " 4   width              201 non-null    float64\n",
      " 5   height             201 non-null    float64\n",
      " 6   curb-weight        201 non-null    int64  \n",
      " 7   engine-size        201 non-null    int64  \n",
      " 8   bore               201 non-null    float64\n",
      " 9   stroke             201 non-null    float64\n",
      " 10  compression-ratio  201 non-null    float64\n",
      " 11  horsepower         201 non-null    float64\n",
      " 12  peak-rpm           201 non-null    float64\n",
      " 13  city-mpg           201 non-null    int64  \n",
      " 14  highway-mpg        201 non-null    int64  \n",
      " 15  price              201 non-null    float64\n",
      " 16  fuel-type-diesel   201 non-null    int64  \n",
      " 17  fuel-type-gas      201 non-null    int64  \n",
      " 18  alfa-romero        201 non-null    int64  \n",
      " 19  audi               201 non-null    int64  \n",
      " 20  bmw                201 non-null    int64  \n",
      " 21  chevrolet          201 non-null    int64  \n",
      " 22  dodge              201 non-null    int64  \n",
      " 23  honda              201 non-null    int64  \n",
      " 24  isuzu              201 non-null    int64  \n",
      " 25  jaguar             201 non-null    int64  \n",
      " 26  mazda              201 non-null    int64  \n",
      " 27  mercedes-benz      201 non-null    int64  \n",
      " 28  mercury            201 non-null    int64  \n",
      " 29  mitsubishi         201 non-null    int64  \n",
      " 30  nissan             201 non-null    int64  \n",
      " 31  peugot             201 non-null    int64  \n",
      " 32  plymouth           201 non-null    int64  \n",
      " 33  porsche            201 non-null    int64  \n",
      " 34  renault            201 non-null    int64  \n",
      " 35  saab               201 non-null    int64  \n",
      " 36  subaru             201 non-null    int64  \n",
      " 37  toyota             201 non-null    int64  \n",
      " 38  volkswagen         201 non-null    int64  \n",
      " 39  volvo              201 non-null    int64  \n",
      " 40  std                201 non-null    int64  \n",
      " 41  turbo              201 non-null    int64  \n",
      " 42  four               201 non-null    int64  \n",
      " 43  two                201 non-null    int64  \n",
      " 44  convertible        201 non-null    int64  \n",
      " 45  hardtop            201 non-null    int64  \n",
      " 46  hatchback          201 non-null    int64  \n",
      " 47  sedan              201 non-null    int64  \n",
      " 48  wagon              201 non-null    int64  \n",
      " 49  4wd                201 non-null    int64  \n",
      " 50  fwd                201 non-null    int64  \n",
      " 51  rwd                201 non-null    int64  \n",
      " 52  front              201 non-null    int64  \n",
      " 53  rear               201 non-null    int64  \n",
      " 54  dohc               201 non-null    int64  \n",
      " 55  l                  201 non-null    int64  \n",
      " 56  ohc                201 non-null    int64  \n",
      " 57  ohcf               201 non-null    int64  \n",
      " 58  ohcv               201 non-null    int64  \n",
      " 59  rotor              201 non-null    int64  \n",
      " 60  eight              201 non-null    int64  \n",
      " 61  five               201 non-null    int64  \n",
      " 62  four.1             201 non-null    int64  \n",
      " 63  six                201 non-null    int64  \n",
      " 64  three              201 non-null    int64  \n",
      " 65  twelve             201 non-null    int64  \n",
      " 66  two.1              201 non-null    int64  \n",
      " 67  1bbl               201 non-null    int64  \n",
      " 68  2bbl               201 non-null    int64  \n",
      " 69  4bbl               201 non-null    int64  \n",
      " 70  idi                201 non-null    int64  \n",
      " 71  mfi                201 non-null    int64  \n",
      " 72  mpfi               201 non-null    int64  \n",
      " 73  spdi               201 non-null    int64  \n",
      " 74  spfi               201 non-null    int64  \n",
      "dtypes: float64(11), int64(64)\n",
      "memory usage: 117.9 KB\n"
     ]
    }
   ],
   "source": [
    "df.info()"
   ]
  },
  {
   "cell_type": "code",
   "execution_count": 3,
   "metadata": {},
   "outputs": [],
   "source": [
    "# Função para plotar o polinômio\n",
    "\n",
    "def PlotPolinomio(model, indVariable, depVariable, Name):\n",
    "    \n",
    "    min_iv = indVariable.min()\n",
    "    max_iv = indVariable.max()\n",
    "      \n",
    "    x_new = np.linspace(min_iv, max_iv, 100)\n",
    "    y_new = model(x_new)\n",
    "    \n",
    "    plt.figure(figsize=(15, 10))\n",
    "    plt.plot(indVariable, depVariable, '.', x_new, y_new, 'r-')\n",
    "    plt.title('Polynomial Fit')\n",
    "    plt.xlabel(Name)\n",
    "    plt.ylabel('Preços dos Carros')\n",
    "    plt.text(x_new.max()*0.8,y_new.max()*0.8,model, size = 12)\n",
    "    \n",
    "    plt.show()\n",
    "    plt.close()"
   ]
  },
  {
   "cell_type": "markdown",
   "metadata": {
    "id": "1ytPHKK1z1Fh"
   },
   "source": [
    "# Modelo Polinomial Grau 2 - Uma variável independente"
   ]
  },
  {
   "cell_type": "markdown",
   "metadata": {
    "id": "FVC_qtaNm2hF"
   },
   "source": [
    "<h4>Como poderia \" highway-mpg\" nos ajudar a prever o preço do carro?</h4>"
   ]
  },
  {
   "cell_type": "markdown",
   "metadata": {
    "id": "1VHz1k2dm2hG"
   },
   "source": [
    "Para este exemplo, queremos ver como a highway-mpg pode nos ajudar a prever o preço do carro.\n",
    "\n",
    "Usando a regressão polinomial simples, criaremos uma função polinomial com \"highway-mpg\" como a variável preditor e o \" price\" como a variável de resposta.\n"
   ]
  },
  {
   "cell_type": "code",
   "execution_count": 4,
   "metadata": {
    "id": "RYBzK8vFm2hG"
   },
   "outputs": [
    {
     "name": "stdout",
     "output_type": "stream",
     "text": [
      "p(x) =\n",
      "       2\n",
      "45.35 x - 3773 x + 8.419e+04\n",
      "\n",
      "R-quadrado:  0.6517936037026721\n"
     ]
    },
    {
     "data": {
      "image/png": "[encoded data removed]",
      "text/plain": [
       "<Figure size 1080x720 with 1 Axes>"
      ]
     },
     "metadata": {
      "needs_background": "light"
     },
     "output_type": "display_data"
    }
   ],
   "source": [
    "x = df['highway-mpg']\n",
    "y = df['price']\n",
    "\n",
    "degree = 2\n",
    "\n",
    "f = np.polyfit(x, y, degree)\n",
    "p = np.poly1d(f)\n",
    "\n",
    "print(\"p(x) =\")\n",
    "print(p)\n",
    "r_squared = r2_score(y, p(x))\n",
    "print('\\nR-quadrado: ', r_squared)\n",
    "\n",
    "PlotPolinomio(p, x, y, 'highway-mpg')"
   ]
  },
  {
   "cell_type": "markdown",
   "metadata": {
    "id": "1ytPHKK1z1Fh"
   },
   "source": [
    "# Modelo Polinomial Grau 3 - Uma variável independente"
   ]
  },
  {
   "cell_type": "code",
   "execution_count": 5,
   "metadata": {
    "id": "RYBzK8vFm2hG"
   },
   "outputs": [
    {
     "name": "stdout",
     "output_type": "stream",
     "text": [
      "p(x) =\n",
      "        3         2\n",
      "-1.557 x + 204.8 x - 8965 x + 1.379e+05\n",
      "\n",
      "R-quadrado:  0.674194666390652\n"
     ]
    },
    {
     "data": {
      "image/png": "[encoded data removed]",
      "text/plain": [
       "<Figure size 1080x720 with 1 Axes>"
      ]
     },
     "metadata": {
      "needs_background": "light"
     },
     "output_type": "display_data"
    }
   ],
   "source": [
    "x = df['highway-mpg']\n",
    "y = df['price']\n",
    "\n",
    "degree = 3\n",
    "\n",
    "# Here we use a polynomial of the 2nd order (quadratic) \n",
    "f = np.polyfit(x, y, degree)\n",
    "p = np.poly1d(f)\n",
    "print(\"p(x) =\")\n",
    "print(p)\n",
    "r_squared = r2_score(y, p(x))\n",
    "print('\\nR-quadrado: ', r_squared)\n",
    "\n",
    "PlotPolinomio(p, x, y, 'highway-mpg')"
   ]
  },
  {
   "cell_type": "markdown",
   "metadata": {
    "id": "1ytPHKK1z1Fh"
   },
   "source": [
    "# Modelo Polinomial Grau 7 - Uma variável independente"
   ]
  },
  {
   "cell_type": "code",
   "execution_count": 6,
   "metadata": {
    "id": "RYBzK8vFm2hG"
   },
   "outputs": [
    {
     "name": "stdout",
     "output_type": "stream",
     "text": [
      "p(x) =\n",
      "           7            6          5         4         3        2\n",
      "2.302e-05 x - 0.004789 x + 0.3967 x - 16.38 x + 332.1 x - 2103 x - 2.883e+04 x + 4.15e+05\n",
      "\n",
      "R-quadrado:  0.6822872350959341\n"
     ]
    },
    {
     "data": {
      "image/png": "[encoded data removed]",
      "text/plain": [
       "<Figure size 1080x720 with 1 Axes>"
      ]
     },
     "metadata": {
      "needs_background": "light"
     },
     "output_type": "display_data"
    }
   ],
   "source": [
    "x = df['highway-mpg']\n",
    "y = df['price']\n",
    "\n",
    "degree = 7\n",
    "\n",
    "# Here we use a polynomial of the 2nd order (quadratic) \n",
    "f = np.polyfit(x, y, degree)\n",
    "p = np.poly1d(f)\n",
    "print(\"p(x) =\")\n",
    "print(p)\n",
    "r_squared = r2_score(y, p(x))\n",
    "print('\\nR-quadrado: ', r_squared)\n",
    "\n",
    "PlotPolinomio(p, x, y, 'highway-mpg')"
   ]
  },
  {
   "cell_type": "markdown",
   "metadata": {
    "id": "1ytPHKK1z1Fh"
   },
   "source": [
    "# Modelo Polinomial Multivariado (Duas ou mais variáveis independentes)\n",
    "\n",
    "Os modelos Polinomiais Multivarido podem ser bem complicados, abaixo temos a equação para um modelo Polinomial Multivarido\n",
    "\n",
    "$$\n",
    "Yhat = a + b_1 X_1 +b_2 X_2 +b_3 X_1 X_2 + b_4 X_1^2 + b_5 X_2^2\n",
    "$$\n",
    "\n"
   ]
  },
  {
   "cell_type": "code",
   "execution_count": 7,
   "metadata": {},
   "outputs": [],
   "source": [
    "from sklearn.preprocessing import PolynomialFeatures\n",
    "\n",
    "Z = df[['horsepower', 'highway-mpg']]\n",
    "\n",
    "pr=PolynomialFeatures(degree=2)\n",
    "Z_pr=pr.fit_transform(Z)\n",
    "\n",
    "# transformar em Data Frame para os plots\n",
    "Z_pr = pd.DataFrame(Z_pr)"
   ]
  },
  {
   "cell_type": "code",
   "execution_count": 8,
   "metadata": {},
   "outputs": [
    {
     "name": "stdout",
     "output_type": "stream",
     "text": [
      "Antes: (201, 2)\n",
      "Depois: (201, 6)\n"
     ]
    }
   ],
   "source": [
    "print(\"Antes:\",Z.shape)\n",
    "print(\"Depois:\",Z_pr.shape)"
   ]
  },
  {
   "cell_type": "code",
   "execution_count": 9,
   "metadata": {},
   "outputs": [
    {
     "data": {
      "text/html": [
       "<div>\n",
       "<style scoped>\n",
       "    .dataframe tbody tr th:only-of-type {\n",
       "        vertical-align: middle;\n",
       "    }\n",
       "\n",
       "    .dataframe tbody tr th {\n",
       "        vertical-align: top;\n",
       "    }\n",
       "\n",
       "    .dataframe thead th {\n",
       "        text-align: right;\n",
       "    }\n",
       "</style>\n",
       "<table border=\"1\" class=\"dataframe\">\n",
       "  <thead>\n",
       "    <tr style=\"text-align: right;\">\n",
       "      <th></th>\n",
       "      <th>cte</th>\n",
       "      <th>horsepower</th>\n",
       "      <th>highway-mpg</th>\n",
       "      <th>horsepower^2</th>\n",
       "      <th>hp*h_mpg</th>\n",
       "      <th>highway-mpg^2</th>\n",
       "    </tr>\n",
       "  </thead>\n",
       "  <tbody>\n",
       "    <tr>\n",
       "      <th>0</th>\n",
       "      <td>1.0</td>\n",
       "      <td>111.0</td>\n",
       "      <td>27.0</td>\n",
       "      <td>12321.0</td>\n",
       "      <td>2997.0</td>\n",
       "      <td>729.0</td>\n",
       "    </tr>\n",
       "    <tr>\n",
       "      <th>1</th>\n",
       "      <td>1.0</td>\n",
       "      <td>111.0</td>\n",
       "      <td>27.0</td>\n",
       "      <td>12321.0</td>\n",
       "      <td>2997.0</td>\n",
       "      <td>729.0</td>\n",
       "    </tr>\n",
       "    <tr>\n",
       "      <th>2</th>\n",
       "      <td>1.0</td>\n",
       "      <td>154.0</td>\n",
       "      <td>26.0</td>\n",
       "      <td>23716.0</td>\n",
       "      <td>4004.0</td>\n",
       "      <td>676.0</td>\n",
       "    </tr>\n",
       "    <tr>\n",
       "      <th>3</th>\n",
       "      <td>1.0</td>\n",
       "      <td>102.0</td>\n",
       "      <td>30.0</td>\n",
       "      <td>10404.0</td>\n",
       "      <td>3060.0</td>\n",
       "      <td>900.0</td>\n",
       "    </tr>\n",
       "    <tr>\n",
       "      <th>4</th>\n",
       "      <td>1.0</td>\n",
       "      <td>115.0</td>\n",
       "      <td>22.0</td>\n",
       "      <td>13225.0</td>\n",
       "      <td>2530.0</td>\n",
       "      <td>484.0</td>\n",
       "    </tr>\n",
       "  </tbody>\n",
       "</table>\n",
       "</div>"
      ],
      "text/plain": [
       "   cte  horsepower  highway-mpg  horsepower^2  hp*h_mpg  highway-mpg^2\n",
       "0  1.0       111.0         27.0       12321.0    2997.0          729.0\n",
       "1  1.0       111.0         27.0       12321.0    2997.0          729.0\n",
       "2  1.0       154.0         26.0       23716.0    4004.0          676.0\n",
       "3  1.0       102.0         30.0       10404.0    3060.0          900.0\n",
       "4  1.0       115.0         22.0       13225.0    2530.0          484.0"
      ]
     },
     "execution_count": 9,
     "metadata": {},
     "output_type": "execute_result"
    }
   ],
   "source": [
    "Z_pr.columns = [\"cte\", 'horsepower', 'highway-mpg', 'horsepower^2','hp*h_mpg','highway-mpg^2']\n",
    "Z_pr.head()"
   ]
  },
  {
   "cell_type": "code",
   "execution_count": 10,
   "metadata": {},
   "outputs": [
    {
     "name": "stdout",
     "output_type": "stream",
     "text": [
      "SCORE:  0.7301213749080536\n"
     ]
    }
   ],
   "source": [
    "lm = LinearRegression()\n",
    "lm.fit(Z_pr, df['price'])\n",
    "print(\"SCORE: \",lm.score(Z_pr, df['price']))\n",
    "\n",
    "Yhat=lm.predict(Z_pr)"
   ]
  },
  {
   "cell_type": "code",
   "execution_count": 11,
   "metadata": {
    "colab": {
     "base_uri": "https://localhost:8080/",
     "height": 370
    },
    "id": "YQ1j3Vb2rrWR",
    "outputId": "b4c1bdcf-9100-4d5a-f9ae-e78851a1f146"
   },
   "outputs": [
    {
     "ename": "NameError",
     "evalue": "name 'Yhat3' is not defined",
     "output_type": "error",
     "traceback": [
      "\u001b[0;31m---------------------------------------------------------------------------\u001b[0m",
      "\u001b[0;31mNameError\u001b[0m                                 Traceback (most recent call last)",
      "\u001b[0;32m/var/folders/fr/1byq_zn551q9hcfd9_hhlv5h0000gn/T/ipykernel_1177/511241869.py\u001b[0m in \u001b[0;36m<module>\u001b[0;34m\u001b[0m\n\u001b[1;32m      2\u001b[0m \u001b[0mplt\u001b[0m\u001b[0;34m.\u001b[0m\u001b[0mfigure\u001b[0m\u001b[0;34m(\u001b[0m\u001b[0mfigsize\u001b[0m\u001b[0;34m=\u001b[0m\u001b[0;34m(\u001b[0m\u001b[0;36m15\u001b[0m\u001b[0;34m,\u001b[0m \u001b[0;36m10\u001b[0m\u001b[0;34m)\u001b[0m\u001b[0;34m)\u001b[0m\u001b[0;34m\u001b[0m\u001b[0;34m\u001b[0m\u001b[0m\n\u001b[1;32m      3\u001b[0m \u001b[0;34m\u001b[0m\u001b[0m\n\u001b[0;32m----> 4\u001b[0;31m \u001b[0mres\u001b[0m \u001b[0;34m=\u001b[0m \u001b[0mYhat3\u001b[0m \u001b[0;34m-\u001b[0m \u001b[0mY\u001b[0m\u001b[0;34m\u001b[0m\u001b[0;34m\u001b[0m\u001b[0m\n\u001b[0m\u001b[1;32m      5\u001b[0m \u001b[0mresAbs\u001b[0m \u001b[0;34m=\u001b[0m \u001b[0mabs\u001b[0m\u001b[0;34m(\u001b[0m\u001b[0mres\u001b[0m\u001b[0;34m)\u001b[0m\u001b[0;34m\u001b[0m\u001b[0;34m\u001b[0m\u001b[0m\n\u001b[1;32m      6\u001b[0m \u001b[0;34m\u001b[0m\u001b[0m\n",
      "\u001b[0;31mNameError\u001b[0m: name 'Yhat3' is not defined"
     ]
    },
    {
     "data": {
      "text/plain": [
       "<Figure size 1080x720 with 0 Axes>"
      ]
     },
     "metadata": {},
     "output_type": "display_data"
    }
   ],
   "source": [
    "%matplotlib inline \n",
    "plt.figure(figsize=(15, 10))\n",
    "\n",
    "res = Yhat3 - Y\n",
    "resAbs = abs(res)\n",
    "\n",
    "MAD = resAbs.mean()\n",
    "MSRE = math.sqrt(mean_squared_error(Y,Yhat3))\n",
    "\n",
    "tt = \"MAD  = %.3f \\nMSRE = %.3f \\nMSE   =  %.3f\" % (MAD, MSRE, mean_squared_error(Y,Yhat3))\n",
    "\n",
    "\n",
    "sns.histplot(x=res, kde=True, stat=\"density\", linewidth=0)\n",
    "plt.title('Residuals for Price')\n",
    "plt.xlabel('Price Residue (in dollars)')\n",
    "plt.ylabel('Density')\n",
    "\n",
    "plt.text(-7700, 0.0003, tt, size=15, color = \"r\", bbox=dict(boxstyle=\"round\", fc=\"cyan\", ec=\"b\", lw=2))"
   ]
  },
  {
   "cell_type": "code",
   "execution_count": null,
   "metadata": {},
   "outputs": [],
   "source": [
    "# Vamos colocar tudo num mesmo Data Frame para facilitar o Plot\n",
    "df_graph = pd.DataFrame(np.array(df['price']))\n",
    "df_graph.columns = [\"Actual Value\"]\n",
    "df_graph[\"Fitted Value\"]= Yhat\n",
    "\n",
    "%matplotlib inline \n",
    "plt.figure(figsize=(15, 10))\n",
    "\n",
    "sns.kdeplot(data = df_graph)\n",
    "\n",
    "plt.title('Actual vs Fitted Values for Price')\n",
    "plt.xlabel('Price (in dollars)')\n",
    "plt.ylabel('Proportion of Cars')\n",
    "#plt.legend(df_graph.columns)\n",
    "\n",
    "tt = \"SCORE: %f\" % lm.score(Z_pr, df['price'])\n",
    "\n",
    "plt.text(49000, 0.000037, tt)\n",
    "\n",
    "plt.show()\n",
    "plt.close()"
   ]
  },
  {
   "cell_type": "code",
   "execution_count": null,
   "metadata": {},
   "outputs": [],
   "source": [
    "%matplotlib inline \n",
    "plt.figure(figsize=(15, 10))\n",
    "\n",
    "res = Yhat - df['price']\n",
    "resAbs = abs(res)\n",
    "\n",
    "MAD = resAbs.mean()\n",
    "MSRE = math.sqrt(mean_squared_error(Y,Yhat))\n",
    "\n",
    "tt = \"MAD  = %.3f \\nMSRE = %.3f \\nMSE   =  %.3f\" % (MAD, MSRE, mean_squared_error(Y,Yhat))\n",
    "\n",
    "sns.histplot(x=res, kde=True, stat=\"density\", linewidth=0)\n",
    "plt.text(-14000, 0.0002, tt, size=15, color = \"r\", bbox=dict(boxstyle=\"round\", fc=\"cyan\", ec=\"b\", lw=2))"
   ]
  },
  {
   "cell_type": "markdown",
   "metadata": {
    "id": "rv4xPTLtOc4-"
   },
   "source": [
    "## References:\n",
    "\n",
    "Translated and inpired in the material developed by IBM:\n",
    "<a href=\"https://www.linkedin.com/in/joseph-s-50398b136/?utm_medium=Exinfluencer&utm_source=Exinfluencer&utm_content=000026UJ&utm_term=10006555&utm_id=NA-SkillsNetwork-Channel-SkillsNetworkCoursesIBMDeveloperSkillsNetworkDA0101ENSkillsNetwork20235326-2021-01-01\" target=\"_blank\">Joseph Santarcangelo</a>\n",
    "<br>\n",
    "\n",
    "## Change Log\n",
    "\n",
    "|  Date (YYYY-MM-DD) |  Version | Changed By  |  Change Description |\n",
    "|---|---|---|---|\n",
    "| 2020-10-20  | 0.9  | <a href=\"https://www.linkedin.com/in/eduardopecora/\" target=\"_blank\">Eduardo Pécora</a> |  Initial development |\n",
    "\n",
    "<hr>"
   ]
  },
  {
   "cell_type": "code",
   "execution_count": null,
   "metadata": {},
   "outputs": [],
   "source": []
  }
 ],
 "metadata": {
  "colab": {
   "collapsed_sections": [
    "Y_lLdnOzzGwU"
   ],
   "name": "DataScience_02.ipynb",
   "provenance": []
  },
  "kernelspec": {
   "display_name": "Python 3 (ipykernel)",
   "language": "python",
   "name": "python3"
  },
  "language_info": {
   "codemirror_mode": {
    "name": "ipython",
    "version": 3
   },
   "file_extension": ".py",
   "mimetype": "text/x-python",
   "name": "python",
   "nbconvert_exporter": "python",
   "pygments_lexer": "ipython3",
   "version": "3.7.7"
  }
 },
 "nbformat": 4,
 "nbformat_minor": 4
}
