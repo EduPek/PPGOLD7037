{
 "cells": [
  {
   "cell_type": "markdown",
   "metadata": {
    "id": "kf5t4e_0dIhp"
   },
   "source": [
    "\n",
    "<left>\n",
    "    <img src=\"http://epecora.com.br/DataFiles/PPGOLD_logo.png\" width=\"300\" alt=\"PPGOLD Data Science: INTRO\"  />\n",
    "</left>\n",
    "\n",
    "# *Data Science - PPGOLD*\n",
    "\n",
    "\n",
    "---\n",
    "\n",
    "\n",
    "## Case de distribuição de e-commerce\n",
    "\n"
   ]
  },
  {
   "cell_type": "markdown",
   "metadata": {
    "id": "G1w1UAvzCjle"
   },
   "source": [
    "# **Verificar a versão do Python e importa as bibliotecas básicas**"
   ]
  },
  {
   "cell_type": "code",
   "execution_count": null,
   "metadata": {
    "button": false,
    "colab": {
     "base_uri": "https://localhost:8080/"
    },
    "id": "QSbu0mjslGwG",
    "new_sheet": false,
    "outputId": "26a7b167-feaf-453b-81e4-2f5a38e22973",
    "run_control": {
     "read_only": false
    }
   },
   "outputs": [],
   "source": [
    "# check Python version\n",
    "!python -V\n",
    "\n",
    "import pandas as pd # download library to read data into dataframe\n",
    "import numpy as np # import numpy library\n",
    "import matplotlib.pyplot as plt # plots\n",
    "import collections\n",
    "import random # library for random number generation"
   ]
  },
  {
   "cell_type": "markdown",
   "metadata": {
    "id": "l_lPsFrTbuTJ"
   },
   "source": [
    "#Importar Arquivo de dados\n",
    "\n",
    "Inclua um CSV com os dados a serem analisados\n",
    " * Incluindo cabeçalho\n",
    " * Separação de campos delimitado por *,*\n",
    " * Separação de linha usando *nova linha*\n",
    "\n",
    " O arquivo tem mais de 6000 registros, pode levar alguns segundos."
   ]
  },
  {
   "cell_type": "code",
   "execution_count": null,
   "metadata": {
    "button": false,
    "colab": {
     "base_uri": "https://localhost:8080/",
     "height": 241
    },
    "id": "v16i9xgdlGwH",
    "new_sheet": false,
    "outputId": "c8bcd16d-1b11-429f-d640-9be604bc6bde",
    "run_control": {
     "read_only": false
    }
   },
   "outputs": [],
   "source": [
    "print(\"Data read into dataframe!\") # takes about 30 seconds\n",
    "\n",
    "file_path = \"Distribution_12k.csv\"\n",
    "\n",
    "starsData = pd.read_csv(file_path)\n",
    "starsData.head()"
   ]
  },
  {
   "cell_type": "markdown",
   "metadata": {
    "id": "lbQQp8MmkyMd"
   },
   "source": [
    "# Padronização do DataTable\n",
    "\n",
    "\n",
    "## Renomear a primeira coluna para \"stars\"\n",
    "\n",
    "Para se adequar ao código"
   ]
  },
  {
   "cell_type": "code",
   "execution_count": null,
   "metadata": {
    "colab": {
     "base_uri": "https://localhost:8080/"
    },
    "id": "NWF8MbGo4lRa",
    "outputId": "815478d2-b25f-4dcf-8a22-d1db710ded97"
   },
   "outputs": [],
   "source": [
    "# fix name of the column displaying the Stars\n",
    "column_names = starsData.columns.values\n",
    "print(starsData.columns.values)\n",
    "column_names[0] = \"stars\"\n",
    "starsData.columns = column_names\n",
    "print(column_names)\n"
   ]
  },
  {
   "cell_type": "markdown",
   "metadata": {
    "id": "YhBvGw5ulFva"
   },
   "source": [
    "# Verificando os dados\n",
    "\n",
    "## Em um contexto real, deveríamos verificar cada coluna minuciosamente procurando por valores fora dos padrões. Mas aqui vamos \"verificar\" somente a coluna \"stars\"\n",
    "\n",
    "### Exemplos mais comuns de valores fora dos padrões são: \n",
    "\n",
    "* Valores numéricos fora do intervalo, por exemplo quantidades de estrelas igual a 15, quando devia ser de 1 a 5.\n",
    "* Texto no local de valores numéricos\n",
    "* Valores \"nan\" Not a Number\n",
    "* Para valores de categorias, no nosso exemplo os produtos são P1, P2, P3; Caso apareca um \"Produto 1\" precisa ser uniformizado\n"
   ]
  },
  {
   "cell_type": "code",
   "execution_count": null,
   "metadata": {
    "colab": {
     "base_uri": "https://localhost:8080/",
     "height": 366
    },
    "id": "AFLRf8amuC5_",
    "outputId": "6871d975-e38e-4cd1-941f-264ab0d00d2d"
   },
   "outputs": [],
   "source": [
    "starsData[\"stars\"].value_counts() # frequency table\n",
    "\n",
    "print(starsData[\"stars\"].mean())\n",
    "\n",
    "c = collections.Counter(starsData[\"stars\"])\n",
    "c = sorted(c.items())\n",
    "print(c)\n",
    "\n",
    "stars_num = [i[0] for i in c]\n",
    "freq = [i[1] for i in c]\n",
    "\n",
    "f, ax = plt.subplots()\n",
    "\n",
    "plt.bar(stars_num, freq)\n",
    "\n",
    "plt.title(\"Stars Frequency\")\n",
    "plt.xlabel(\"Stars\")\n",
    "plt.ylabel(\"Frequency\")\n",
    "\n",
    "plt.show()\n",
    "\n",
    "print(stars_num)"
   ]
  },
  {
   "cell_type": "markdown",
   "metadata": {
    "id": "S8GbaOIZMWM6"
   },
   "source": [
    "# Existem dados fora do intervalo de estrelas [1,5] , alguns valores são 6 outros são NAN\n",
    "\n",
    "##Limpar dados de estrelas fora do intervalo [1,5], excluindo os registros"
   ]
  },
  {
   "cell_type": "code",
   "execution_count": null,
   "metadata": {
    "colab": {
     "base_uri": "https://localhost:8080/",
     "height": 346
    },
    "id": "FghJezLtNdHO",
    "outputId": "f0983c08-507b-4072-9fbc-ed2acad78cfe"
   },
   "outputs": [],
   "source": [
    "starsData = starsData[starsData[\"stars\"] <= 5]\n",
    "starsData = starsData[starsData[\"stars\"] >= 1]\n",
    "\n",
    "starsData = starsData[starsData[\"FloorCD\"] <= 4] # aproveitei e padronizei outros dados numéricos também\n",
    "starsData = starsData[starsData[\"FloorCD\"] >= 0]\n",
    "\n",
    "starsData = starsData[starsData[\"RoutDeliveryOrder\"] <= 6]\n",
    "starsData = starsData[starsData[\"RoutDeliveryOrder\"] >= 1]\n",
    "\n",
    "starsData[\"stars\"].value_counts() # frequency table\n",
    "\n",
    "print(starsData[\"stars\"].mean())\n",
    "\n",
    "c = collections.Counter(starsData[\"stars\"])\n",
    "c = sorted(c.items())\n",
    "print(c)\n",
    "\n",
    "stars_num = [i[0] for i in c]\n",
    "freq = [i[1] for i in c]\n",
    "\n",
    "f, ax = plt.subplots()\n",
    "\n",
    "plt.bar(stars_num, freq)\n",
    "\n",
    "plt.title(\"Stars Frequency\")\n",
    "plt.xlabel(\"Stars\")\n",
    "plt.ylabel(\"Frequency\")\n",
    "\n",
    "plt.show()\n",
    "\n",
    "print(stars_num)\n",
    "\n",
    "starsData = starsData.reset_index(drop=True) # É importante refazer o indice do dataFrame, apeos excluir linhas, pois pode gerar problema no SciKit Learn\n"
   ]
  },
  {
   "cell_type": "markdown",
   "metadata": {
    "id": "DD7oHMU-5RkO"
   },
   "source": [
    "#Outras inconsistências nos dados\n",
    "\n",
    "### Note a coluna Driver_F_CD, ela só tem os valores \"D01\" ... \"D06\" mas não sabemos se o motorista D01 pode trabalhar no CD1, CD2 ou CD3 ? Isso não te parece no mínimo esquisito ?\n",
    "\n",
    "### Fica como Lição de casa você pensar em uma alternativa\n"
   ]
  },
  {
   "cell_type": "code",
   "execution_count": null,
   "metadata": {
    "colab": {
     "base_uri": "https://localhost:8080/",
     "height": 376
    },
    "id": "ZvgwIm1n4KS1",
    "outputId": "609f97df-ae72-4dfe-9e96-2a0485ff2c21"
   },
   "outputs": [],
   "source": [
    "ct = pd.crosstab(index=starsData['CD_name'], columns=starsData['DriverF_CD'])\n",
    "\n",
    "ct.plot.bar(stacked=True)\n",
    "plt.legend(title='Driver')\n",
    "\n",
    "plt.show()\n",
    "\n",
    "print(ct)\n"
   ]
  },
  {
   "cell_type": "markdown",
   "metadata": {
    "id": "ybeylih_rP96"
   },
   "source": [
    "# Começando a análise\n",
    "\n",
    "## Importar as bibliotecas: \n",
    "* SKLEARN\n",
    "* graphviz\n",
    "* matplotlib\n"
   ]
  },
  {
   "cell_type": "code",
   "execution_count": null,
   "metadata": {
    "button": false,
    "id": "Onk8NCykljQb",
    "new_sheet": false,
    "run_control": {
     "read_only": false
    }
   },
   "outputs": [],
   "source": [
    "# import decision trees scikit-learn libraries\n",
    "%matplotlib inline\n",
    "from sklearn import tree\n",
    "from sklearn.metrics import accuracy_score, confusion_matrix # Não usaremos essas métricas neste exemplo\n",
    "\n",
    "import matplotlib.pyplot as plt\n",
    "\n",
    "#!conda install python-graphviz --yes\n",
    "import graphviz\n",
    "\n",
    "from sklearn.tree import export_graphviz\n",
    "\n",
    "import itertools"
   ]
  },
  {
   "cell_type": "markdown",
   "metadata": {
    "id": "eCCRt-5_r4I7"
   },
   "source": [
    "# Separar o dataFrame em variáveis dependentes e independentes"
   ]
  },
  {
   "cell_type": "code",
   "execution_count": null,
   "metadata": {
    "button": false,
    "colab": {
     "base_uri": "https://localhost:8080/"
    },
    "id": "A4BXdakoljQf",
    "jupyter": {
     "outputs_hidden": false
    },
    "new_sheet": false,
    "outputId": "65e50f1f-14b4-4f2f-fa2c-996d4d59aadd",
    "run_control": {
     "read_only": false
    }
   },
   "outputs": [],
   "source": [
    "# split the DataFrame\n",
    "stars = starsData[\"stars\"] # Só a coluna \"stars\"\n",
    "stars_class = stars[:]\n",
    "variables = starsData.iloc[:,1:] # Todas as outras colunas com excessão da \"stars\"\n",
    "\n",
    "\n",
    "stars_class.head()"
   ]
  },
  {
   "cell_type": "code",
   "execution_count": null,
   "metadata": {
    "colab": {
     "base_uri": "https://localhost:8080/",
     "height": 204
    },
    "id": "5NxfaEsj7JqS",
    "outputId": "b1b524f8-6394-4c3a-a0d9-e8d7a60b29f1"
   },
   "outputs": [],
   "source": [
    "variables.head()"
   ]
  },
  {
   "cell_type": "markdown",
   "metadata": {
    "id": "13OQZX-nsS_6"
   },
   "source": [
    "# Adequação das variáveis categóricas em colunas binárias - OneHotEncoder\n",
    "\n",
    "\n"
   ]
  },
  {
   "cell_type": "code",
   "execution_count": null,
   "metadata": {
    "colab": {
     "base_uri": "https://localhost:8080/",
     "height": 224
    },
    "id": "GBmtfwUC7F9j",
    "outputId": "168034a6-6099-4d9a-aea5-0e7e49d544ac"
   },
   "outputs": [],
   "source": [
    "from sklearn.preprocessing import OneHotEncoder\n",
    "\n",
    "enc = OneHotEncoder(handle_unknown='ignore', sparse= False)\n",
    "\n",
    "prod_encoded = pd.DataFrame (enc.fit_transform(variables[['Product']])).astype(int)\n",
    "prod_encoded.columns = enc.get_feature_names(['Product'])\n",
    "\n",
    "origin_encoded = pd.DataFrame (enc.fit_transform(variables[['Origin']])).astype(int)\n",
    "origin_encoded.columns = enc.get_feature_names(['Origin'])\n",
    "\n",
    "CD_encoded = pd.DataFrame (enc.fit_transform(variables[['CD_name']])).astype(int)\n",
    "CD_encoded.columns = enc.get_feature_names(['CD_name'])\n",
    "\n",
    "Destination_encoded = pd.DataFrame (enc.fit_transform(variables[['Dest']])).astype(int)\n",
    "Destination_encoded.columns = enc.get_feature_names(['Dest'])\n",
    "\n",
    "TruckType_encoded = pd.DataFrame (enc.fit_transform(variables[['TruckType']])).astype(int)\n",
    "TruckType_encoded.columns = enc.get_feature_names(['TruckType'])\n",
    "\n",
    "#FloorCD_encoded = pd.DataFrame (enc.fit_transform(variables[['FloorCD']])).astype(int)\n",
    "#FloorCD_encoded.columns = enc.get_feature_names(['FloorCD'])\n",
    "\n",
    "TruckType2_encoded = pd.DataFrame (enc.fit_transform(variables[['TruckType2']])).astype(int)\n",
    "TruckType2_encoded.columns = enc.get_feature_names(['TruckType2'])\n",
    "\n",
    "DriverCD_C_encoded = pd.DataFrame (enc.fit_transform(variables[['DriverCD_C']])).astype(int)\n",
    "DriverCD_C_encoded.columns = enc.get_feature_names(['DriverCD_C'])\n",
    "\n",
    "var1 = pd.concat([prod_encoded, origin_encoded, CD_encoded, Destination_encoded, TruckType_encoded, TruckType2_encoded, DriverCD_C_encoded, variables[\"RoutDeliveryOrder\"], variables[\"FloorCD\"]], axis=1)\n",
    "\n",
    "var1.head()\n",
    "\n",
    "\n"
   ]
  },
  {
   "cell_type": "markdown",
   "metadata": {
    "id": "gIW-qbYVuGod"
   },
   "source": [
    "## DecisionTreeClassifier e os seus Parâmetros\n",
    "\n",
    "O algoritimo do DecisionTreeClassifier tem a tendência natural de fazer um OVERFITING, para ajustar isso modificamos os parâmetros:\n",
    "\n",
    "* max_depth : Profundidade máxima da árvore\n",
    "* min_samples_split : quantidade mínima de amostras para se dividir um nó\n",
    "* min_samples_leaf : Quantidade mínima de amostras em um nó folha (nó da base da árvore)"
   ]
  },
  {
   "cell_type": "code",
   "execution_count": null,
   "metadata": {
    "colab": {
     "base_uri": "https://localhost:8080/"
    },
    "id": "SqGXSP0R_ku6",
    "outputId": "d4253192-f90f-4068-b786-022fed56d6df"
   },
   "outputs": [],
   "source": [
    "delivery_tree = tree.DecisionTreeClassifier(max_depth = 4, min_samples_split = 2, min_samples_leaf = 1)\n",
    "delivery_tree.fit(var1, stars_class)\n",
    "\n",
    "print(\"Decision tree model saved to delivery_tree!\")\n",
    "print(delivery_tree)\n",
    "print(var1.columns.values)"
   ]
  },
  {
   "cell_type": "markdown",
   "metadata": {
    "id": "CyLSxHbxur6Y"
   },
   "source": [
    "# Resultados em formato gráfico são sempre melhores ;)"
   ]
  },
  {
   "cell_type": "code",
   "execution_count": null,
   "metadata": {
    "colab": {
     "base_uri": "https://localhost:8080/",
     "height": 777
    },
    "id": "_4lp-QBX6Ue4",
    "outputId": "d04b4b92-7a35-4402-b357-48041e7fa87f"
   },
   "outputs": [],
   "source": [
    "export_graphviz(delivery_tree,\n",
    "                feature_names=list(var1.columns.values),\n",
    "                out_file=\"delivery_tree.dot\",\n",
    "                class_names=np.unique(stars_class.astype(str)),\n",
    "                filled=True,\n",
    "                rounded=True,\n",
    "                node_ids=True,\n",
    "                special_characters=True,\n",
    "                impurity=False,\n",
    "                label=\"all\",\n",
    "                leaves_parallel = False)\n",
    "\n",
    "with open(\"delivery_tree.dot\") as delivery_tree_image:\n",
    "    delivery_tree_graph = delivery_tree_image.read()\n",
    "    \n",
    "graphviz.Source(delivery_tree_graph)"
   ]
  },
  {
   "cell_type": "markdown",
   "metadata": {
    "id": "upoMZ7idwYdH"
   },
   "source": [
    "# *Modificar a variável dependente para (bad, average, good) ao invés de [1,5]*\n",
    "\n",
    "## Atenção: na saída gráfica os valores do vetor Value estarão em ordem alfabeetica, ou seja, (average, bad, good)"
   ]
  },
  {
   "cell_type": "code",
   "execution_count": null,
   "metadata": {
    "colab": {
     "base_uri": "https://localhost:8080/",
     "height": 1000
    },
    "id": "w-_eFiaL6U0B",
    "outputId": "2139bb4b-3e90-4b1a-bb97-dfac992c2324"
   },
   "outputs": [],
   "source": [
    "stars_class.loc[stars <= 2] = \"bad\"\n",
    "stars_class.loc[stars == 3] = \"average\"\n",
    "stars_class.loc[stars >= 4] = \"good\"\n",
    "\n",
    "delivery_tree = tree.DecisionTreeClassifier(max_depth = 4, min_samples_split = 2, min_samples_leaf = 1)\n",
    "delivery_tree.fit(var1, stars_class)\n",
    "\n",
    "print(\"Decision tree model saved to delivery_tree!\")\n",
    "print(delivery_tree)\n",
    "print(var1.columns.values)\n",
    "\n",
    "export_graphviz(delivery_tree,\n",
    "                feature_names=list(var1.columns.values),\n",
    "                out_file=\"delivery_tree.dot\",\n",
    "                class_names=np.unique(stars_class.astype(str)),\n",
    "                filled=True,\n",
    "                rounded=True,\n",
    "                node_ids=True,\n",
    "                special_characters=True,\n",
    "                impurity=False,\n",
    "                label=\"all\",\n",
    "                leaves_parallel = False)\n",
    "\n",
    "with open(\"delivery_tree.dot\") as delivery_tree_image:\n",
    "    delivery_tree_graph = delivery_tree_image.read()\n",
    "    \n",
    "graphviz.Source(delivery_tree_graph)"
   ]
  },
  {
   "cell_type": "markdown",
   "metadata": {
    "id": "2-mR8VKzIp6u"
   },
   "source": [
    "## Parece que o P7 é chave nesta árvore não?"
   ]
  },
  {
   "cell_type": "code",
   "execution_count": null,
   "metadata": {
    "colab": {
     "base_uri": "https://localhost:8080/",
     "height": 1000
    },
    "id": "ALa_sr76J8wh",
    "outputId": "031de055-b08e-4856-a08c-6b121c5da15c"
   },
   "outputs": [],
   "source": [
    "stars_class_p7 = stars_class[var1[\"Product_P7\"]==1]\n",
    "var1_p7 = var1[var1[\"Product_P7\"]==1]\n",
    "\n",
    "\n",
    "delivery_tree = tree.DecisionTreeClassifier(max_depth = 4, min_samples_split = 2, min_samples_leaf = 1)\n",
    "delivery_tree.fit(var1_p7, stars_class_p7)\n",
    "\n",
    "print(\"Decision tree model saved to delivery_tree!\")\n",
    "print(delivery_tree)\n",
    "print(var1.columns.values)\n",
    "\n",
    "export_graphviz(delivery_tree,\n",
    "                feature_names=list(var1.columns.values),\n",
    "                out_file=\"delivery_tree.dot\",\n",
    "                class_names=np.unique(stars_class.astype(str)),\n",
    "                filled=True,\n",
    "                rounded=True,\n",
    "                node_ids=True,\n",
    "                special_characters=True,\n",
    "                impurity=False,\n",
    "                label=\"all\",\n",
    "                leaves_parallel = False)\n",
    "\n",
    "with open(\"delivery_tree.dot\") as delivery_tree_image:\n",
    "    delivery_tree_graph = delivery_tree_image.read()\n",
    "    \n",
    "graphviz.Source(delivery_tree_graph)"
   ]
  },
  {
   "cell_type": "markdown",
   "metadata": {
    "id": "BOvy0l2PJFLr"
   },
   "source": [
    "## Parece que o andar onde alocamos os P07 também tem um papel importante né?"
   ]
  },
  {
   "cell_type": "code",
   "execution_count": null,
   "metadata": {
    "colab": {
     "base_uri": "https://localhost:8080/",
     "height": 1000
    },
    "id": "_K42hOe4KN08",
    "outputId": "ef8cd22d-b82c-4195-f797-1b3045cb284e"
   },
   "outputs": [],
   "source": [
    "stars_class_route56 = stars_class_p7[var1_p7[\"FloorCD\"]>=3]\n",
    "var1_route456 = var1_p7[var1_p7[\"FloorCD\"]>=3]\n",
    "\n",
    "\n",
    "delivery_tree = tree.DecisionTreeClassifier(max_depth = 4, min_samples_split = 2, min_samples_leaf = 1)\n",
    "delivery_tree.fit(var1_route456, stars_class_route56)\n",
    "\n",
    "print(\"Decision tree model saved to delivery_tree!\")\n",
    "print(delivery_tree)\n",
    "print(var1.columns.values)\n",
    "\n",
    "export_graphviz(delivery_tree,\n",
    "                feature_names=list(var1.columns.values),\n",
    "                out_file=\"delivery_tree.dot\",\n",
    "                class_names=np.unique(stars_class.astype(str)),\n",
    "                filled=True,\n",
    "                rounded=True,\n",
    "                node_ids=True,\n",
    "                special_characters=True,\n",
    "                impurity=False,\n",
    "                label=\"all\",\n",
    "                leaves_parallel = False)\n",
    "\n",
    "with open(\"delivery_tree.dot\") as delivery_tree_image:\n",
    "    delivery_tree_graph = delivery_tree_image.read()\n",
    "    \n",
    "graphviz.Source(delivery_tree_graph)"
   ]
  },
  {
   "cell_type": "markdown",
   "metadata": {
    "id": "3IPqosiQu52z"
   },
   "source": [
    "## Autor\n",
    "\n",
    "<a href=\"https://www.linkedin.com/in/eduardopecora/\" target=\"_blank\">Eduardo Pecora</a>\n",
    "\n",
    "## Log de modificações\n",
    "\n",
    "| Data | Versão | Modificado por | Descrição |\n",
    "| ----------------- | ------- | ---------- | ---------------------------------- |\n",
    "| 04-04-2021       | 1.0     | Eduardo Pecora    | Inicial               |\n",
    "| 03-11-2021       | 1.1     | Eduardo Pecora    | Estrutura Aula        |\n",
    "\n",
    "<hr>\n",
    "\n"
   ]
  },
  {
   "cell_type": "code",
   "execution_count": null,
   "metadata": {
    "id": "e8pHKM3wMgN4"
   },
   "outputs": [],
   "source": []
  }
 ],
 "metadata": {
  "colab": {
   "collapsed_sections": [],
   "name": "DS07_1_Tree.ipynb",
   "provenance": []
  },
  "kernelspec": {
   "display_name": "Python 3 (ipykernel)",
   "language": "python",
   "name": "python3"
  },
  "language_info": {
   "codemirror_mode": {
    "name": "ipython",
    "version": 3
   },
   "file_extension": ".py",
   "mimetype": "text/x-python",
   "name": "python",
   "nbconvert_exporter": "python",
   "pygments_lexer": "ipython3",
   "version": "3.7.7"
  }
 },
 "nbformat": 4,
 "nbformat_minor": 4
}
